{
  "cells": [
    {
      "cell_type": "markdown",
      "metadata": {
        "id": "JnIuLLVugQdt"
      },
      "source": [
        "# Big Data Final Code"
      ]
    },
    {
      "cell_type": "markdown",
      "metadata": {
        "id": "ENTX2ZoNgQdw"
      },
      "source": [
        "### Library Imports"
      ]
    },
    {
      "cell_type": "code",
      "execution_count": 1,
      "metadata": {
        "colab": {
          "base_uri": "https://localhost:8080/"
        },
        "id": "qjVrxkGd1VL2",
        "outputId": "0ccb288b-a46a-4cf9-fc6c-739ab2b4629b"
      },
      "outputs": [
        {
          "output_type": "stream",
          "name": "stdout",
          "text": [
            "\u001b[?25l\r\u001b[K     |▊                               | 10 kB 22.4 MB/s eta 0:00:01\r\u001b[K     |█▌                              | 20 kB 10.7 MB/s eta 0:00:01\r\u001b[K     |██▎                             | 30 kB 14.8 MB/s eta 0:00:01\r\u001b[K     |███                             | 40 kB 5.6 MB/s eta 0:00:01\r\u001b[K     |███▊                            | 51 kB 5.6 MB/s eta 0:00:01\r\u001b[K     |████▌                           | 61 kB 6.5 MB/s eta 0:00:01\r\u001b[K     |█████▏                          | 71 kB 7.0 MB/s eta 0:00:01\r\u001b[K     |██████                          | 81 kB 7.8 MB/s eta 0:00:01\r\u001b[K     |██████▊                         | 92 kB 6.2 MB/s eta 0:00:01\r\u001b[K     |███████▌                        | 102 kB 6.6 MB/s eta 0:00:01\r\u001b[K     |████████▏                       | 112 kB 6.6 MB/s eta 0:00:01\r\u001b[K     |█████████                       | 122 kB 6.6 MB/s eta 0:00:01\r\u001b[K     |█████████▊                      | 133 kB 6.6 MB/s eta 0:00:01\r\u001b[K     |██████████▍                     | 143 kB 6.6 MB/s eta 0:00:01\r\u001b[K     |███████████▏                    | 153 kB 6.6 MB/s eta 0:00:01\r\u001b[K     |████████████                    | 163 kB 6.6 MB/s eta 0:00:01\r\u001b[K     |████████████▊                   | 174 kB 6.6 MB/s eta 0:00:01\r\u001b[K     |█████████████▍                  | 184 kB 6.6 MB/s eta 0:00:01\r\u001b[K     |██████████████▏                 | 194 kB 6.6 MB/s eta 0:00:01\r\u001b[K     |███████████████                 | 204 kB 6.6 MB/s eta 0:00:01\r\u001b[K     |███████████████▋                | 215 kB 6.6 MB/s eta 0:00:01\r\u001b[K     |████████████████▍               | 225 kB 6.6 MB/s eta 0:00:01\r\u001b[K     |█████████████████▏              | 235 kB 6.6 MB/s eta 0:00:01\r\u001b[K     |██████████████████              | 245 kB 6.6 MB/s eta 0:00:01\r\u001b[K     |██████████████████▋             | 256 kB 6.6 MB/s eta 0:00:01\r\u001b[K     |███████████████████▍            | 266 kB 6.6 MB/s eta 0:00:01\r\u001b[K     |████████████████████▏           | 276 kB 6.6 MB/s eta 0:00:01\r\u001b[K     |████████████████████▉           | 286 kB 6.6 MB/s eta 0:00:01\r\u001b[K     |█████████████████████▋          | 296 kB 6.6 MB/s eta 0:00:01\r\u001b[K     |██████████████████████▍         | 307 kB 6.6 MB/s eta 0:00:01\r\u001b[K     |███████████████████████         | 317 kB 6.6 MB/s eta 0:00:01\r\u001b[K     |███████████████████████▉        | 327 kB 6.6 MB/s eta 0:00:01\r\u001b[K     |████████████████████████▋       | 337 kB 6.6 MB/s eta 0:00:01\r\u001b[K     |█████████████████████████▍      | 348 kB 6.6 MB/s eta 0:00:01\r\u001b[K     |██████████████████████████      | 358 kB 6.6 MB/s eta 0:00:01\r\u001b[K     |██████████████████████████▉     | 368 kB 6.6 MB/s eta 0:00:01\r\u001b[K     |███████████████████████████▋    | 378 kB 6.6 MB/s eta 0:00:01\r\u001b[K     |████████████████████████████▎   | 389 kB 6.6 MB/s eta 0:00:01\r\u001b[K     |█████████████████████████████   | 399 kB 6.6 MB/s eta 0:00:01\r\u001b[K     |█████████████████████████████▉  | 409 kB 6.6 MB/s eta 0:00:01\r\u001b[K     |██████████████████████████████▋ | 419 kB 6.6 MB/s eta 0:00:01\r\u001b[K     |███████████████████████████████▎| 430 kB 6.6 MB/s eta 0:00:01\r\u001b[K     |████████████████████████████████| 439 kB 6.6 MB/s \n",
            "\u001b[?25h  Building wheel for treelib (setup.py) ... \u001b[?25l\u001b[?25hdone\n"
          ]
        }
      ],
      "source": [
        "!pip install --quiet mrjob==0.7.4\n",
        "!pip install --quiet treelib"
      ]
    },
    {
      "cell_type": "code",
      "execution_count": 2,
      "metadata": {
        "id": "pN1LM0mwHn7c"
      },
      "outputs": [],
      "source": [
        "import numpy as np\n",
        "import pandas as pd\n",
        "from treelib import Tree\n",
        "import subprocess\n",
        "import os\n",
        "import time\n",
        "import matplotlib.pyplot as plt"
      ]
    },
    {
      "cell_type": "markdown",
      "metadata": {
        "id": "t8t9a7zzg4Oc"
      },
      "source": [
        "### Connecting Drive for larger datasets"
      ]
    },
    {
      "cell_type": "code",
      "execution_count": null,
      "metadata": {
        "colab": {
          "base_uri": "https://localhost:8080/"
        },
        "id": "dGJvpDRlg38E",
        "outputId": "b12eaafd-aecf-4827-ea69-fc36e3c66830"
      },
      "outputs": [
        {
          "output_type": "stream",
          "name": "stdout",
          "text": [
            "Mounted at /content/gdrive\n"
          ]
        }
      ],
      "source": [
        "from google.colab import drive\n",
        "drive.mount(\"/content/gdrive\")"
      ]
    },
    {
      "cell_type": "markdown",
      "metadata": {
        "id": "5DF4Elo1gQdy"
      },
      "source": [
        "### Creating an MRJob"
      ]
    },
    {
      "cell_type": "code",
      "execution_count": 3,
      "metadata": {
        "colab": {
          "base_uri": "https://localhost:8080/"
        },
        "id": "0c-bZ4YZ2wai",
        "outputId": "da18ac0d-bd14-4900-ecb7-bb3460243718"
      },
      "outputs": [
        {
          "output_type": "stream",
          "name": "stdout",
          "text": [
            "Writing q1.py\n"
          ]
        }
      ],
      "source": [
        "%%file q1.py\n",
        "import numpy as np\n",
        "from mrjob.job import MRJob\n",
        "from mrjob.step import MRStep\n",
        "\n",
        "att_names = ['lymphatics', 'block_of_affere', 'bl_of_lymph_c', 'bl_of_lymph_s', 'by_pass', 'extravasates', 'regeneration_of', 'early_uptake_in', 'lym_nodes_dimin', 'lym_nodes_enlar',\n",
        "             'changes_in_lym', 'defect_in_node', 'changes_in_node', 'changes_in_stru', 'special_forms', 'dislocation_of', 'exclusion_of_no', 'no_of_nodes_in', 'class']\n",
        "\n",
        "\n",
        "class GainRatio(MRJob):\n",
        "\n",
        "    best_att = None\n",
        "    max_gain = 0\n",
        "\n",
        "    def steps(self):\n",
        "        return [\n",
        "            MRStep(mapper=self.mapper_count,reducer=self.reducer_count),\n",
        "            MRStep(mapper=self.mapper_gain, reducer=self.reducer_gain),\n",
        "            MRStep(reducer=self.gain_max)\n",
        "        ]\n",
        "\n",
        "    def mapper_count(self, _, line):\n",
        "        records = line.split(',')\n",
        "        if(records[8].isdigit()):\n",
        "            for i in range(0,len(records)-1):\n",
        "                yield((att_names[i],records[i],records[-1]),1)\n",
        "\n",
        "\n",
        "    def reducer_count(self, key, val):\n",
        "        yield (key,sum(val))\n",
        "\n",
        "    def mapper_gain(self, key, val):\n",
        "        yield key[0], [key[1], key[2], val]\n",
        "    \n",
        "    def reducer_gain(self, key, val):\n",
        "        l = list(val)\n",
        "        total_entropy = 0\n",
        "        weighted_entropy = 0\n",
        "        split_info = 0\n",
        "        total = 0\n",
        "        target = {}\n",
        "        attribute = {}\n",
        "\n",
        "        for i in l:\n",
        "            if i[1] in target.keys():\n",
        "                target[i[1]] += i[-1]\n",
        "            else:\n",
        "                target[i[1]] = i[-1]\n",
        "\n",
        "            if i[0] in attribute.keys():\n",
        "                attribute[i[0]] += i[-1]\n",
        "            else:\n",
        "                attribute[i[0]] = i[-1]\n",
        "\n",
        "            total += i[-1]\n",
        "\n",
        "        for i in attribute.keys():\n",
        "            att_tar = {}\n",
        "            att_entropy = 0\n",
        "\n",
        "            for j in l:\n",
        "                if(j[0]==i):\n",
        "                    if j[1] in att_tar.keys():\n",
        "                        att_tar[j[1]] += j[-1]\n",
        "                    else:\n",
        "                        att_tar[j[1]] = j[-1]\n",
        "            \n",
        "            for k in att_tar.values():\n",
        "                att_entropy += (-k/attribute[i])*np.log2(k/attribute[i]) if (k/attribute[i])!=0 else 0\n",
        "            \n",
        "            weighted_entropy += (attribute[i]/total)*att_entropy\n",
        "            split_info += (-attribute[i]/total)*np.log2(attribute[i]/total) if (attribute[i]/total)!=0 else 0\n",
        "\n",
        "\n",
        "        for i in target.values():\n",
        "            total_entropy += (-i/total)*np.log2(i/total) if (i/total)!=0 else 0\n",
        "        \n",
        "        gain_ratio = (total_entropy - weighted_entropy)/split_info if split_info != 0 else 0\n",
        "\n",
        "        yield None, [key, gain_ratio]\n",
        "\n",
        "    def gain_max(self, _, val):\n",
        "        best_att = None\n",
        "        max_gain = 0\n",
        "\n",
        "        for i in val:\n",
        "            if(i[1] >= max_gain):\n",
        "                max_gain = i[1]\n",
        "                best_att = i[0]\n",
        "\n",
        "        yield best_att, max_gain\n",
        "\n",
        "if __name__ == '__main__':\n",
        "    GainRatio.run()"
      ]
    },
    {
      "cell_type": "markdown",
      "metadata": {
        "id": "Do3CsBeygQdz"
      },
      "source": [
        "#### Trial of the MR Job"
      ]
    },
    {
      "cell_type": "code",
      "execution_count": 4,
      "metadata": {
        "colab": {
          "base_uri": "https://localhost:8080/"
        },
        "id": "Vhzp2dyXIKhY",
        "outputId": "f25b6d77-a057-40e8-f7f6-a9d2fca9a57a"
      },
      "outputs": [
        {
          "output_type": "stream",
          "name": "stdout",
          "text": [
            "No configs found; falling back on auto-configuration\n",
            "No configs specified for inline runner\n",
            "Creating temp directory /tmp/q1.root.20221218.021713.080348\n",
            "Running step 1 of 3...\n",
            "Running step 2 of 3...\n",
            "Running step 3 of 3...\n",
            "job output is in /tmp/q1.root.20221218.021713.080348/output\n",
            "Streaming final output from /tmp/q1.root.20221218.021713.080348/output...\n",
            "\"lym_nodes_dimin\"\t0.5647091545931281\n",
            "Removing temp directory /tmp/q1.root.20221218.021713.080348...\n"
          ]
        }
      ],
      "source": [
        "!python q1.py \"lymph148.csv\""
      ]
    },
    {
      "cell_type": "code",
      "execution_count": 6,
      "metadata": {
        "colab": {
          "base_uri": "https://localhost:8080/"
        },
        "id": "3ah0KOndgQd0",
        "outputId": "cdf72d8f-27f9-4dc9-bbf0-e002fbbad5a0"
      },
      "outputs": [
        {
          "output_type": "stream",
          "name": "stdout",
          "text": [
            "['lym_nodes_dimin', '0.5647091545931281']\n"
          ]
        }
      ],
      "source": [
        "cmd = subprocess.run([\"python\", \"q1.py\", \"lymph148.csv\"], capture_output=True)\n",
        "stdout = cmd.stdout.decode()\n",
        "print(stdout.strip().replace('\"','').split('\\t'))"
      ]
    },
    {
      "cell_type": "markdown",
      "metadata": {
        "id": "gu9udlKxgQd1"
      },
      "source": [
        "### Building a Decision Tree"
      ]
    },
    {
      "cell_type": "markdown",
      "metadata": {
        "id": "3GbLfozVgQd1"
      },
      "source": [
        "* logarithm to the base 2"
      ]
    },
    {
      "cell_type": "code",
      "execution_count": 7,
      "metadata": {
        "id": "JnN9zZCLUMor"
      },
      "outputs": [],
      "source": [
        "def log(val):\n",
        "    if val == 0:\n",
        "        return 0\n",
        "    else:\n",
        "        return np.log2(val)"
      ]
    },
    {
      "cell_type": "markdown",
      "metadata": {
        "id": "Wh8Ae0Z2gQd2"
      },
      "source": [
        "* Entropy Calculation"
      ]
    },
    {
      "cell_type": "code",
      "execution_count": 8,
      "metadata": {
        "id": "y5jGkSdfgQd2"
      },
      "outputs": [],
      "source": [
        "def entropy(target_col):  \n",
        "    \n",
        "    elements, counts = np.unique(target_col,return_counts = True)  \n",
        "    entropy = np.sum([(-counts[i]/np.sum(counts))*log(counts[i]/np.sum(counts)) for i in range(len(elements))])  \n",
        "    return entropy"
      ]
    },
    {
      "cell_type": "markdown",
      "metadata": {
        "id": "vcvTJvN-gQd2"
      },
      "source": [
        "* Gain Ratio Calculation"
      ]
    },
    {
      "cell_type": "code",
      "execution_count": 9,
      "metadata": {
        "id": "dxSp5HN-gQd2"
      },
      "outputs": [],
      "source": [
        "def GainRatio(data,split_attribute_name,target_attribute_name=\"Loan_Status\"):  \n",
        "         \n",
        "    #Calculate the entropy of the total dataset  \n",
        "    total_entropy = entropy(data[target_attribute_name])  \n",
        "    # print(total_entropy)\n",
        "    ##Calculate the entropy of the dataset  \n",
        "      \n",
        "    #Calculate the values and the corresponding counts for the split attribute   \n",
        "    vals, counts= np.unique(data[split_attribute_name],return_counts=True)  \n",
        "      \n",
        "    #Calculate the weighted entropy  \n",
        "    Weighted_Entropy = np.sum([(counts[i]/np.sum(counts))*entropy(data[data[split_attribute_name]==vals[i]][target_attribute_name]) for i in range(len(vals))])  \n",
        "    # print(Weighted_Entropy)\n",
        "    #Calculate split information gain\n",
        "    Split_Info = np.sum([(-counts[i]/np.sum(counts))*log(counts[i]/np.sum(counts)) for i in range(len(vals))])\n",
        "\n",
        "    #Calculate the information gain  \n",
        "    Information_Gain = total_entropy - Weighted_Entropy  \n",
        "\n",
        "    #Calculate the gain ratio\n",
        "    Gain_Ratio = Information_Gain/Split_Info if Split_Info != 0 else 0\n",
        "    # print(Gain_Ratio)\n",
        "\n",
        "    return Gain_Ratio "
      ]
    },
    {
      "cell_type": "markdown",
      "metadata": {
        "id": "NtdZgpUegQd2"
      },
      "source": [
        "* Add node function to add a node to the tree"
      ]
    },
    {
      "cell_type": "code",
      "execution_count": 10,
      "metadata": {
        "id": "xkjiHAaXqaQj"
      },
      "outputs": [],
      "source": [
        "def add_node(tree, best_feature, pid, path):\n",
        "    if(pid == None):\n",
        "        tree.create_node(tag = best_feature, identifier = best_feature)\n",
        "        return best_feature\n",
        "    else:\n",
        "        tree.create_node(str(path) + \":\" + best_feature, pid + \"/\" + str(path) + \"/\" + best_feature, pid)\n",
        "        return pid + \"/\" + str(path) + \"/\" + best_feature"
      ]
    },
    {
      "cell_type": "markdown",
      "metadata": {
        "id": "ERV1vDTugQd3"
      },
      "source": [
        "### C45 Algo"
      ]
    },
    {
      "cell_type": "code",
      "execution_count": null,
      "metadata": {
        "id": "zry-AvsWEpd7"
      },
      "outputs": [],
      "source": [
        "lvl_times = {}"
      ]
    },
    {
      "cell_type": "code",
      "execution_count": null,
      "metadata": {
        "id": "9BgNjz_BgQd3"
      },
      "outputs": [],
      "source": [
        "def C45(tree, data, features, target_attribute_name=\"class\", parent_node_class = None, pid = None, path = None, lvl = 0):  \n",
        "  \n",
        "    #Define the stopping criteria --> If one of this is satisfied, we want to return a leaf node#  \n",
        "    global lvl_times\n",
        "    \n",
        "    start = time.time()\n",
        "    #If all target_values have the same value, return this value  \n",
        "    if len(np.unique(data[target_attribute_name])) <= 1:\n",
        "        best_feature = np.unique(data[target_attribute_name])[0]  \n",
        "        pid = add_node(tree, best_feature, pid, path)\n",
        "        \n",
        "    #If the feature space is empty, return the mode target feature value of the direct parent node \n",
        "    elif len(features) ==0:\n",
        "        best_feature = parent_node_class \n",
        "        pid = add_node(tree, best_feature, pid, path) \n",
        "      \n",
        "    #If none of the above holds true, grow the tree!  \n",
        "    else:  \n",
        "        #Set the default value for this node --> The mode target feature value of the current node  \n",
        "        parent_node_class = np.unique(data[target_attribute_name])[np.argmax(np.unique(data[target_attribute_name],return_counts=True)[1])]  \n",
        "          \n",
        "        # #Select the feature which best splits the dataset  \n",
        "        # item_values = [GainRatio(data,feature,target_attribute_name) for feature in features] #Return the information gain values for the features in the dataset  \n",
        "        # # print(features)\n",
        "        \n",
        "        # best_feature_index = np.argmax(item_values)  \n",
        "        # best_feature = features[best_feature_index]\n",
        "\n",
        "        fname = 'lymph_' + str(lvl) + '.csv'\n",
        "\n",
        "        data.to_csv(fname, index=False)\n",
        "\n",
        "        cmd = subprocess.run([\"python\", \"q1.py\", fname], capture_output=True)\n",
        "        stdout = cmd.stdout.decode()\n",
        "        best_feature, best_val = stdout.strip().replace('\"','').split('\\t')\n",
        "        \n",
        "        # print(best_feature, best_val)\n",
        "          \n",
        "        #Create the tree structure. The root gets the name of the feature (best_feature) with the maximum information  \n",
        "        #gain in the first run  \n",
        "        \n",
        "        pid = add_node(tree, best_feature, pid, path)\n",
        "        # for node in  tree.all_nodes_itr():\n",
        "        #     print(node.identifier)\n",
        "          \n",
        "        #Remove the feature with the best inforamtion gain from the feature space  \n",
        "        features = [i for i in features if i != best_feature]  \n",
        "          \n",
        "        #Grow a branch under the root node for each possible value of the root node feature\n",
        "\n",
        "        lvl_times[str(lvl)] = lvl_times.get(str(lvl),0) + time.time() - start\n",
        "          \n",
        "        for val in np.unique(data[best_feature]): \n",
        "            #Split the dataset along the value of the feature with the largest information gain and therwith create sub_datasets  \n",
        "            sub_data = data[data[best_feature] == val]\n",
        "            # print(value)  \n",
        "              \n",
        "            #Call the ID3 algorithm for each of those sub_datasets with the new parameters --> Here the recursion comes in!\n",
        "            C45(tree, sub_data, features, target_attribute_name, parent_node_class, pid, val, lvl+1)\n",
        "            \n",
        "\n",
        "        os.remove(fname)\n",
        "        del data"
      ]
    },
    {
      "cell_type": "markdown",
      "metadata": {
        "id": "C3uibcumgQd3"
      },
      "source": [
        "## Generating Decision Tree"
      ]
    },
    {
      "cell_type": "code",
      "execution_count": null,
      "metadata": {
        "id": "pU6vDjtWHqJF"
      },
      "outputs": [],
      "source": [
        "data = pd.read_csv(\"/content/gdrive/MyDrive/IT488data/BDP_data/lymph148.csv\")"
      ]
    },
    {
      "cell_type": "code",
      "execution_count": null,
      "metadata": {
        "colab": {
          "base_uri": "https://localhost:8080/"
        },
        "id": "jkv19fn0zBi6",
        "outputId": "850ac1a9-91e7-4799-b89d-9b650b91a9ac"
      },
      "outputs": [
        {
          "output_type": "stream",
          "name": "stdout",
          "text": [
            "lym_nodes_dimin\n",
            "├── 1:changes_in_node\n",
            "│   ├── lac_central:exclusion_of_no\n",
            "│   │   ├── no:changes_in_lym\n",
            "│   │   │   ├── oval:malign_lymph\n",
            "│   │   │   └── round:metastases\n",
            "│   │   └── yes:lym_nodes_enlar\n",
            "│   │       ├── 2:changes_in_stru\n",
            "│   │       │   ├── diluted:metastases\n",
            "│   │       │   └── faint:malign_lymph\n",
            "│   │       ├── 3:malign_lymph\n",
            "│   │       └── 4:malign_lymph\n",
            "│   ├── lac_margin:block_of_affere\n",
            "│   │   ├── no:extravasates\n",
            "│   │   │   ├── no:lymphatics\n",
            "│   │   │   │   ├── arched:early_uptake_in\n",
            "│   │   │   │   │   ├── no:changes_in_lym\n",
            "│   │   │   │   │   │   ├── oval:metastases\n",
            "│   │   │   │   │   │   └── round:special_forms\n",
            "│   │   │   │   │   │       ├── chalices:malign_lymph\n",
            "│   │   │   │   │   │       └── vesicles:metastases\n",
            "│   │   │   │   │   └── yes:no_of_nodes_in\n",
            "│   │   │   │   │       ├── 2:malign_lymph\n",
            "│   │   │   │   │       ├── 3:malign_lymph\n",
            "│   │   │   │   │       └── 4:metastases\n",
            "│   │   │   │   ├── deformed:metastases\n",
            "│   │   │   │   └── displaced:malign_lymph\n",
            "│   │   │   └── yes:malign_lymph\n",
            "│   │   └── yes:no_of_nodes_in\n",
            "│   │       ├── 1:metastases\n",
            "│   │       ├── 2:metastases\n",
            "│   │       ├── 3:by_pass\n",
            "│   │       │   ├── no:special_forms\n",
            "│   │       │   │   ├── chalices:metastases\n",
            "│   │       │   │   └── vesicles:malign_lymph\n",
            "│   │       │   └── yes:metastases\n",
            "│   │       ├── 4:lymphatics\n",
            "│   │       │   ├── arched:malign_lymph\n",
            "│   │       │   ├── deformed:malign_lymph\n",
            "│   │       │   └── displaced:metastases\n",
            "│   │       ├── 6:metastases\n",
            "│   │       └── 7:metastases\n",
            "│   ├── lacunar:exclusion_of_no\n",
            "│   │   ├── no:extravasates\n",
            "│   │   │   ├── no:metastases\n",
            "│   │   │   └── yes:block_of_affere\n",
            "│   │   │       ├── no:malign_lymph\n",
            "│   │   │       └── yes:metastases\n",
            "│   │   └── yes:special_forms\n",
            "│   │       ├── chalices:changes_in_lym\n",
            "│   │       │   ├── oval:malign_lymph\n",
            "│   │       │   └── round:metastases\n",
            "│   │       ├── no:no_of_nodes_in\n",
            "│   │       │   ├── 1:metastases\n",
            "│   │       │   └── 2:malign_lymph\n",
            "│   │       └── vesicles:early_uptake_in\n",
            "│   │           ├── no:metastases\n",
            "│   │           └── yes:malign_lymph\n",
            "│   └── no:exclusion_of_no\n",
            "│       ├── no:normal\n",
            "│       └── yes:changes_in_lym\n",
            "│           ├── bean:metastases\n",
            "│           └── oval:malign_lymph\n",
            "├── 2:no_of_nodes_in\n",
            "│   ├── 1:metastases\n",
            "│   ├── 7:fibrosis\n",
            "│   └── 8:malign_lymph\n",
            "└── 3:fibrosis\n",
            "\n"
          ]
        }
      ],
      "source": [
        "tree = Tree()\n",
        "C45(tree, data, data.columns[:-1], 'class')\n",
        "tree.show()"
      ]
    },
    {
      "cell_type": "code",
      "execution_count": null,
      "metadata": {
        "colab": {
          "base_uri": "https://localhost:8080/"
        },
        "id": "VwRS7_b9G4TI",
        "outputId": "b0077649-8d2f-4dbc-e746-af26813bb13a"
      },
      "outputs": [
        {
          "output_type": "stream",
          "name": "stdout",
          "text": [
            "{'0': 0.5954091548919678, '1': 1.2483537197113037, '2': 2.368103265762329, '3': 4.568050861358643, '4': 5.403217554092407, '5': 0.9270877838134766, '6': 0.9132106304168701, '7': 0.4457411766052246}\n"
          ]
        }
      ],
      "source": [
        "print(lvl_times)"
      ]
    },
    {
      "cell_type": "markdown",
      "metadata": {
        "id": "_olD1iMkeP6G"
      },
      "source": [
        "### Visualisation"
      ]
    },
    {
      "cell_type": "code",
      "execution_count": null,
      "metadata": {
        "colab": {
          "base_uri": "https://localhost:8080/"
        },
        "id": "42hO4lLEgQd4",
        "outputId": "44503eb3-fafc-41d4-9a23-60764fb99f95"
      },
      "outputs": [
        {
          "output_type": "stream",
          "name": "stdout",
          "text": [
            "Running data : 148\n",
            "Running data : 1000\n",
            "Running data : 5000\n",
            "Running data : 10000\n",
            "Running data : 25000\n",
            "Running data : 50000\n",
            "Running data : 100000\n",
            "Running data : 500000\n",
            "[18.746173620224, 13.358909368515015, 17.634006023406982, 23.795971632003784, 37.45673084259033, 60.626306772232056, 109.92646670341492, 500.2066693305969]\n",
            "[{'0': 1.6727795600891113, '1': 2.6818594932556152, '2': 5.448763608932495, '3': 9.845301866531372, '4': 10.84236741065979, '5': 1.9542052745819092, '6': 1.8137195110321045, '7': 0.8622524738311768}, {'0': 0.6525568962097168, '1': 1.0868675708770752, '2': 1.9726378917694092, '3': 3.3751091957092285, '4': 3.6850972175598145, '5': 0.9165077209472656, '6': 0.9046535491943359, '7': 0.4334225654602051}, {'0': 1.4864108562469482, '1': 1.8798635005950928, '2': 2.8104500770568848, '3': 4.289846897125244, '4': 3.990158796310425, '5': 0.9652161598205566, '6': 1.2424099445343018, '7': 0.4453728199005127}, {'0': 4.566824674606323, '1': 2.9201159477233887, '2': 3.8223767280578613, '3': 5.109076976776123, '4': 4.475511074066162, '5': 1.0309333801269531, '6': 1.0037870407104492, '7': 0.4516139030456543}, {'0': 5.700902223587036, '1': 7.288060903549194, '2': 6.819953441619873, '3': 8.140589714050293, '4': 6.04053807258606, '5': 1.275315523147583, '6': 1.2053370475769043, '7': 0.5155959129333496}, {'0': 11.025033235549927, '1': 11.197808027267456, '2': 12.16325569152832, '3': 13.232993841171265, '4': 8.236533880233765, '5': 1.6642861366271973, '6': 1.5284647941589355, '7': 0.6053636074066162}, {'0': 21.676024198532104, '1': 21.811434745788574, '2': 22.694515228271484, '3': 23.601863861083984, '4': 13.613644123077393, '5': 2.4486637115478516, '6': 2.1939666271209717, '7': 0.7302577495574951}, {'0': 112.04253029823303, '1': 108.1393551826477, '2': 103.77184867858887, '3': 103.31728148460388, '4': 48.80848813056946, '5': 8.682437658309937, '6': 9.354777812957764, '7': 1.867668628692627}]\n"
          ]
        }
      ],
      "source": [
        "nrows = [148, 1000, 5000, 10000, 25000, 50000, 100000, 500000]\n",
        "MR = []\n",
        "times_lvl = []\n",
        "for i in range(len(nrows)):\n",
        "    print(f\"Running data : {nrows[i]}\")\n",
        "    start = time.time()\n",
        "    data = pd.read_csv(\"/content/gdrive/MyDrive/IT488data/BDP_data/lymph\" + str(nrows[i])+ \".csv\")\n",
        "    tree = Tree()\n",
        "    C45(tree, data, data.columns[:-1], 'class')\n",
        "    MR.append(time.time()-start)\n",
        "    times_lvl.append(lvl_times)\n",
        "    lvl_times = {}\n",
        "print(MR)\n",
        "print(times_lvl)"
      ]
    },
    {
      "cell_type": "code",
      "execution_count": null,
      "metadata": {
        "colab": {
          "base_uri": "https://localhost:8080/",
          "height": 410
        },
        "id": "-ybeJ8YzJ-oQ",
        "outputId": "f06a7539-86ca-4898-9cff-96c0385946e7"
      },
      "outputs": [
        {
          "output_type": "display_data",
          "data": {
            "text/plain": [
              "<Figure size 576x432 with 1 Axes>"
            ],
            "image/png": "[encoded data removed]"
          },
          "metadata": {
            "needs_background": "light"
          }
        }
      ],
      "source": [
        "fig, ax = plt.subplots(figsize=(8,6))\n",
        "color_cycle = ['tab:blue', 'tab:orange', 'tab:green', 'tab:purple', 'tab:red', 'tab:olive', 'tab:pink', 'tab:brown', 'tab:gray']\n",
        "\n",
        "for i in range(len(nrows)):\n",
        "    ax.plot(list(times_lvl[i].keys())[:-1], list(times_lvl[i].values())[:-1], c=color_cycle[i%len(color_cycle)], ls='-', lw=2, label=f'{nrows[i]}')\n",
        "    ax.scatter(list(times_lvl[i].keys())[:-1], list(times_lvl[i].values())[:-1], c=color_cycle[i%len(color_cycle)])\n",
        "\n",
        "ax.axhline(0, color='dimgrey')\n",
        "ax.axvline(0, color='dimgrey')\n",
        "ax.patch.set_edgecolor('black')  \n",
        "ax.patch.set_linewidth('2')\n",
        "ax.set_title(f\"The time of each iteration on MapReduce\", fontsize = 16, fontweight='bold')\n",
        "ax.set_xlabel(\"Iteration\", fontsize = 14)\n",
        "ax.set_ylabel(\"Time in seconds\", fontsize = 14)\n",
        "ax.set_xticks(list(range(0,8,1)))\n",
        "# ax.set_yticks(range(0,35,5))\n",
        "ax.grid()\n",
        "\n",
        "plt.legend()\n",
        "plt.show(fig)"
      ]
    },
    {
      "cell_type": "markdown",
      "source": [
        "# Spark"
      ],
      "metadata": {
        "id": "WjNbNMhAhf7e"
      }
    },
    {
      "cell_type": "code",
      "source": [
        "!pip install --quiet pyspark"
      ],
      "metadata": {
        "colab": {
          "base_uri": "https://localhost:8080/"
        },
        "id": "z104eSxV5-Pr",
        "outputId": "a1717c26-3563-446b-f1b4-d8f21dad833e"
      },
      "execution_count": 11,
      "outputs": [
        {
          "output_type": "stream",
          "name": "stdout",
          "text": [
            "\u001b[K     |████████████████████████████████| 281.4 MB 44 kB/s \n",
            "\u001b[K     |████████████████████████████████| 199 kB 57.7 MB/s \n",
            "\u001b[?25h  Building wheel for pyspark (setup.py) ... \u001b[?25l\u001b[?25hdone\n"
          ]
        }
      ]
    },
    {
      "cell_type": "code",
      "source": [
        "from pyspark.ml.feature import StringIndexer, OneHotEncoder, VectorAssembler\n",
        "from pyspark.ml import Pipeline\n",
        "from pyspark.ml.regression import GeneralizedLinearRegression\n",
        "from pyspark.ml.classification import LogisticRegression, DecisionTreeClassifier"
      ],
      "metadata": {
        "id": "Qqh7zuay7D13"
      },
      "execution_count": 12,
      "outputs": []
    },
    {
      "cell_type": "code",
      "source": [
        "from google.colab import drive\n",
        "drive.mount('/content/drive')"
      ],
      "metadata": {
        "colab": {
          "base_uri": "https://localhost:8080/"
        },
        "id": "TiAm_Cb6W0pV",
        "outputId": "47d68d83-5916-4547-d09e-166e7c57c798"
      },
      "execution_count": null,
      "outputs": [
        {
          "output_type": "stream",
          "name": "stdout",
          "text": [
            "Mounted at /content/drive\n"
          ]
        }
      ]
    },
    {
      "cell_type": "code",
      "execution_count": null,
      "metadata": {
        "id": "8pEdZoIB55Dr"
      },
      "outputs": [],
      "source": [
        "from pyspark import SparkContext\n",
        "sc = SparkContext(master = 'local')\n",
        "\n",
        "from pyspark.sql import SparkSession\n",
        "spark = SparkSession.builder.appName(\"Python Spark SQL basic example\").config(\"spark.some.config.option\", \"some-value\").getOrCreate()"
      ]
    },
    {
      "cell_type": "code",
      "source": [
        "spark = []"
      ],
      "metadata": {
        "id": "5Ct195VEW9D5"
      },
      "execution_count": null,
      "outputs": []
    },
    {
      "cell_type": "code",
      "source": [
        "name = [\"lymph148.csv\",\"lymph1000.csv\",\"lymph5000.csv\",\"lymph10000.csv\",\"lymph25000.csv\",\"lymph50000.csv\",\"lymph100000.csv\",\"lymph500000.csv\"]\n",
        "for i in name:\n",
        "  data = spark.read.csv(f\"drive/MyDrive/{i}\", header=True, inferSchema=True)\n",
        "\n",
        "  index = [0,1,2,3,4,5,6,7,10,11,12,13,14,15,16]\n",
        "  categorical_columns = [data.columns[i] for i in index]\n",
        "\n",
        "  stringindexer_stages = [StringIndexer(inputCol=c, outputCol='strindexed_' + c) for c in categorical_columns]\n",
        "  # encode label column and add it to stringindexer_stages\n",
        "  stringindexer_stages += [StringIndexer(inputCol='class', outputCol='label')]\n",
        "\n",
        "  onehotencoder_stages = [OneHotEncoder(inputCol='strindexed_' + c, outputCol='onehot_' + c) for c in categorical_columns]\n",
        "\n",
        "  feature_columns = ['onehot_' + c for c in categorical_columns]\n",
        "  vectorassembler_stage = VectorAssembler(inputCols=feature_columns, outputCol='features')\n",
        "\n",
        "  all_stages = stringindexer_stages + onehotencoder_stages + [vectorassembler_stage]\n",
        "  pipeline = Pipeline(stages=all_stages)\n",
        "\n",
        "  pipeline_model = pipeline.fit(data)\n",
        "\n",
        "  final_columns = feature_columns + ['features', 'label']\n",
        "  data_df = pipeline_model.transform(data).select(final_columns)\n",
        "\n",
        "  dt = DecisionTreeClassifier(featuresCol='features', labelCol='label')\n",
        "\n",
        "  start  = time.time()\n",
        "  dtc = dt.fit(data_df)\n",
        "  end = time.time()\n",
        "  spark.append(end-start)"
      ],
      "metadata": {
        "id": "_dU3APwP59Yv"
      },
      "execution_count": null,
      "outputs": []
    },
    {
      "cell_type": "code",
      "source": [
        "spark"
      ],
      "metadata": {
        "colab": {
          "base_uri": "https://localhost:8080/"
        },
        "id": "Ad0O0wqLX1-z",
        "outputId": "ddeaf40b-13be-4d38-95f8-ca5fb9440610"
      },
      "execution_count": null,
      "outputs": [
        {
          "output_type": "execute_result",
          "data": {
            "text/plain": [
              "[0.7499442100524902,\n",
              " 0.9080612659454346,\n",
              " 1.2280442714691162,\n",
              " 1.2559518814086914,\n",
              " 2.058055877685547,\n",
              " 3.294874906539917,\n",
              " 5.813601493835449,\n",
              " 26.06615114212036]"
            ]
          },
          "metadata": {},
          "execution_count": 18
        }
      ]
    },
    {
      "cell_type": "code",
      "source": [
        "print(dtc.toDebugString)"
      ],
      "metadata": {
        "colab": {
          "base_uri": "https://localhost:8080/"
        },
        "id": "vvp583H2El03",
        "outputId": "57dc85bd-f18e-4ebc-c5d2-8fdc6066777b"
      },
      "execution_count": null,
      "outputs": [
        {
          "output_type": "stream",
          "name": "stdout",
          "text": [
            "DecisionTreeClassificationModel: uid=DecisionTreeClassifier_65ec25027522, depth=5, numNodes=37, numClasses=4, numFeatures=29\n",
            "  If (feature 15 in {0.0})\n",
            "   If (feature 28 in {0.0})\n",
            "    If (feature 16 in {0.0})\n",
            "     If (feature 17 in {0.0})\n",
            "      If (feature 1 in {0.0})\n",
            "       Predict: 3.0\n",
            "      Else (feature 1 not in {0.0})\n",
            "       Predict: 2.0\n",
            "     Else (feature 17 not in {0.0})\n",
            "      If (feature 3 in {0.0})\n",
            "       Predict: 1.0\n",
            "      Else (feature 3 not in {0.0})\n",
            "       Predict: 0.0\n",
            "    Else (feature 16 not in {0.0})\n",
            "     If (feature 21 in {0.0})\n",
            "      Predict: 0.0\n",
            "     Else (feature 21 not in {0.0})\n",
            "      If (feature 0 in {0.0})\n",
            "       Predict: 0.0\n",
            "      Else (feature 0 not in {0.0})\n",
            "       Predict: 1.0\n",
            "   Else (feature 28 not in {0.0})\n",
            "    If (feature 9 in {0.0})\n",
            "     If (feature 1 in {0.0})\n",
            "      Predict: 0.0\n",
            "     Else (feature 1 not in {0.0})\n",
            "      If (feature 6 in {0.0})\n",
            "       Predict: 2.0\n",
            "      Else (feature 6 not in {0.0})\n",
            "       Predict: 1.0\n",
            "    Else (feature 9 not in {0.0})\n",
            "     If (feature 25 in {0.0})\n",
            "      If (feature 10 in {0.0})\n",
            "       Predict: 0.0\n",
            "      Else (feature 10 not in {0.0})\n",
            "       Predict: 1.0\n",
            "     Else (feature 25 not in {0.0})\n",
            "      Predict: 1.0\n",
            "  Else (feature 15 not in {0.0})\n",
            "   If (feature 3 in {0.0})\n",
            "    If (feature 7 in {0.0})\n",
            "     If (feature 1 in {0.0})\n",
            "      If (feature 9 in {0.0})\n",
            "       Predict: 0.0\n",
            "      Else (feature 9 not in {0.0})\n",
            "       Predict: 1.0\n",
            "     Else (feature 1 not in {0.0})\n",
            "      Predict: 0.0\n",
            "    Else (feature 7 not in {0.0})\n",
            "     Predict: 1.0\n",
            "   Else (feature 3 not in {0.0})\n",
            "    If (feature 23 in {0.0})\n",
            "     Predict: 0.0\n",
            "    Else (feature 23 not in {0.0})\n",
            "     Predict: 1.0\n",
            "\n"
          ]
        }
      ]
    },
    {
      "cell_type": "code",
      "source": [
        "def parse_debug_string_lines(lines):\n",
        "    \n",
        "    block = []\n",
        "    while lines:\n",
        "\n",
        "\n",
        "        if lines[0].startswith('If'):\n",
        "            bl = ' '.join(lines.pop(0).split()[1:]).replace('(', '').replace(')', '')\n",
        "            block.append({'name': bl, 'children': parse_debug_string_lines(lines)})\n",
        "\n",
        "\n",
        "            if lines[0].startswith('Else'):\n",
        "                be = ' '.join(lines.pop(0).split()[1:]).replace('(', '').replace(')', '')\n",
        "                block.append({'name': be, 'children': parse_debug_string_lines(lines)})\n",
        "        elif not lines[0].startswith(('If', 'Else')):\n",
        "            block2 = lines.pop(0)\n",
        "            block.append({'name': block2})\n",
        "        else:\n",
        "            break\n",
        "    \n",
        "    return block\n",
        "\n",
        "\n",
        "def debug_str_to_json(debug_string):\n",
        "    data = []\n",
        "    for line in debug_string.splitlines():\n",
        "        if line.strip():\n",
        "            line = line.strip()\n",
        "            data.append(line)\n",
        "        else:\n",
        "            break\n",
        "        if not line: break\n",
        "\n",
        "    json = {'name': 'Root', 'children': parse_debug_string_lines(data[1:])}\n",
        "    \n",
        "\n",
        "    return json"
      ],
      "metadata": {
        "id": "gc8yP-O3Fqxn"
      },
      "execution_count": null,
      "outputs": []
    },
    {
      "cell_type": "code",
      "source": [
        "import json\n",
        "\n",
        "dict_tree_json = debug_str_to_json(dtc.toDebugString)\n",
        "\n",
        "print(json.dumps(dict_tree_json,indent = 1 ))\n"
      ],
      "metadata": {
        "colab": {
          "base_uri": "https://localhost:8080/"
        },
        "id": "zfoFXzjyFr17",
        "outputId": "045739d3-c5f6-4f8d-a5e1-f2a5379247f3"
      },
      "execution_count": null,
      "outputs": [
        {
          "output_type": "stream",
          "name": "stdout",
          "text": [
            "{\n",
            " \"name\": \"Root\",\n",
            " \"children\": [\n",
            "  {\n",
            "   \"name\": \"feature 15 in {0.0}\",\n",
            "   \"children\": [\n",
            "    {\n",
            "     \"name\": \"feature 28 in {0.0}\",\n",
            "     \"children\": [\n",
            "      {\n",
            "       \"name\": \"feature 16 in {0.0}\",\n",
            "       \"children\": [\n",
            "        {\n",
            "         \"name\": \"feature 17 in {0.0}\",\n",
            "         \"children\": [\n",
            "          {\n",
            "           \"name\": \"feature 1 in {0.0}\",\n",
            "           \"children\": [\n",
            "            {\n",
            "             \"name\": \"Predict: 3.0\"\n",
            "            }\n",
            "           ]\n",
            "          },\n",
            "          {\n",
            "           \"name\": \"feature 1 not in {0.0}\",\n",
            "           \"children\": [\n",
            "            {\n",
            "             \"name\": \"Predict: 2.0\"\n",
            "            }\n",
            "           ]\n",
            "          }\n",
            "         ]\n",
            "        },\n",
            "        {\n",
            "         \"name\": \"feature 17 not in {0.0}\",\n",
            "         \"children\": [\n",
            "          {\n",
            "           \"name\": \"feature 3 in {0.0}\",\n",
            "           \"children\": [\n",
            "            {\n",
            "             \"name\": \"Predict: 1.0\"\n",
            "            }\n",
            "           ]\n",
            "          },\n",
            "          {\n",
            "           \"name\": \"feature 3 not in {0.0}\",\n",
            "           \"children\": [\n",
            "            {\n",
            "             \"name\": \"Predict: 0.0\"\n",
            "            }\n",
            "           ]\n",
            "          }\n",
            "         ]\n",
            "        }\n",
            "       ]\n",
            "      },\n",
            "      {\n",
            "       \"name\": \"feature 16 not in {0.0}\",\n",
            "       \"children\": [\n",
            "        {\n",
            "         \"name\": \"feature 21 in {0.0}\",\n",
            "         \"children\": [\n",
            "          {\n",
            "           \"name\": \"Predict: 0.0\"\n",
            "          }\n",
            "         ]\n",
            "        },\n",
            "        {\n",
            "         \"name\": \"feature 21 not in {0.0}\",\n",
            "         \"children\": [\n",
            "          {\n",
            "           \"name\": \"feature 0 in {0.0}\",\n",
            "           \"children\": [\n",
            "            {\n",
            "             \"name\": \"Predict: 0.0\"\n",
            "            }\n",
            "           ]\n",
            "          },\n",
            "          {\n",
            "           \"name\": \"feature 0 not in {0.0}\",\n",
            "           \"children\": [\n",
            "            {\n",
            "             \"name\": \"Predict: 1.0\"\n",
            "            }\n",
            "           ]\n",
            "          }\n",
            "         ]\n",
            "        }\n",
            "       ]\n",
            "      }\n",
            "     ]\n",
            "    },\n",
            "    {\n",
            "     \"name\": \"feature 28 not in {0.0}\",\n",
            "     \"children\": [\n",
            "      {\n",
            "       \"name\": \"feature 9 in {0.0}\",\n",
            "       \"children\": [\n",
            "        {\n",
            "         \"name\": \"feature 1 in {0.0}\",\n",
            "         \"children\": [\n",
            "          {\n",
            "           \"name\": \"Predict: 0.0\"\n",
            "          }\n",
            "         ]\n",
            "        },\n",
            "        {\n",
            "         \"name\": \"feature 1 not in {0.0}\",\n",
            "         \"children\": [\n",
            "          {\n",
            "           \"name\": \"feature 6 in {0.0}\",\n",
            "           \"children\": [\n",
            "            {\n",
            "             \"name\": \"Predict: 2.0\"\n",
            "            }\n",
            "           ]\n",
            "          },\n",
            "          {\n",
            "           \"name\": \"feature 6 not in {0.0}\",\n",
            "           \"children\": [\n",
            "            {\n",
            "             \"name\": \"Predict: 1.0\"\n",
            "            }\n",
            "           ]\n",
            "          }\n",
            "         ]\n",
            "        }\n",
            "       ]\n",
            "      },\n",
            "      {\n",
            "       \"name\": \"feature 9 not in {0.0}\",\n",
            "       \"children\": [\n",
            "        {\n",
            "         \"name\": \"feature 25 in {0.0}\",\n",
            "         \"children\": [\n",
            "          {\n",
            "           \"name\": \"feature 10 in {0.0}\",\n",
            "           \"children\": [\n",
            "            {\n",
            "             \"name\": \"Predict: 0.0\"\n",
            "            }\n",
            "           ]\n",
            "          },\n",
            "          {\n",
            "           \"name\": \"feature 10 not in {0.0}\",\n",
            "           \"children\": [\n",
            "            {\n",
            "             \"name\": \"Predict: 1.0\"\n",
            "            }\n",
            "           ]\n",
            "          }\n",
            "         ]\n",
            "        },\n",
            "        {\n",
            "         \"name\": \"feature 25 not in {0.0}\",\n",
            "         \"children\": [\n",
            "          {\n",
            "           \"name\": \"Predict: 1.0\"\n",
            "          }\n",
            "         ]\n",
            "        }\n",
            "       ]\n",
            "      }\n",
            "     ]\n",
            "    }\n",
            "   ]\n",
            "  },\n",
            "  {\n",
            "   \"name\": \"feature 15 not in {0.0}\",\n",
            "   \"children\": [\n",
            "    {\n",
            "     \"name\": \"feature 3 in {0.0}\",\n",
            "     \"children\": [\n",
            "      {\n",
            "       \"name\": \"feature 7 in {0.0}\",\n",
            "       \"children\": [\n",
            "        {\n",
            "         \"name\": \"feature 1 in {0.0}\",\n",
            "         \"children\": [\n",
            "          {\n",
            "           \"name\": \"feature 9 in {0.0}\",\n",
            "           \"children\": [\n",
            "            {\n",
            "             \"name\": \"Predict: 0.0\"\n",
            "            }\n",
            "           ]\n",
            "          },\n",
            "          {\n",
            "           \"name\": \"feature 9 not in {0.0}\",\n",
            "           \"children\": [\n",
            "            {\n",
            "             \"name\": \"Predict: 1.0\"\n",
            "            }\n",
            "           ]\n",
            "          }\n",
            "         ]\n",
            "        },\n",
            "        {\n",
            "         \"name\": \"feature 1 not in {0.0}\",\n",
            "         \"children\": [\n",
            "          {\n",
            "           \"name\": \"Predict: 0.0\"\n",
            "          }\n",
            "         ]\n",
            "        }\n",
            "       ]\n",
            "      },\n",
            "      {\n",
            "       \"name\": \"feature 7 not in {0.0}\",\n",
            "       \"children\": [\n",
            "        {\n",
            "         \"name\": \"Predict: 1.0\"\n",
            "        }\n",
            "       ]\n",
            "      }\n",
            "     ]\n",
            "    },\n",
            "    {\n",
            "     \"name\": \"feature 3 not in {0.0}\",\n",
            "     \"children\": [\n",
            "      {\n",
            "       \"name\": \"feature 23 in {0.0}\",\n",
            "       \"children\": [\n",
            "        {\n",
            "         \"name\": \"Predict: 0.0\"\n",
            "        }\n",
            "       ]\n",
            "      },\n",
            "      {\n",
            "       \"name\": \"feature 23 not in {0.0}\",\n",
            "       \"children\": [\n",
            "        {\n",
            "         \"name\": \"Predict: 1.0\"\n",
            "        }\n",
            "       ]\n",
            "      }\n",
            "     ]\n",
            "    }\n",
            "   ]\n",
            "  }\n",
            " ]\n",
            "}\n"
          ]
        }
      ]
    },
    {
      "cell_type": "markdown",
      "source": [
        "# Comparison"
      ],
      "metadata": {
        "id": "ID85fQ_chuRO"
      }
    },
    {
      "cell_type": "code",
      "source": [
        "barWidth = 0.3\n",
        "fig = plt.subplots(figsize =(10, 6))\n",
        "\n",
        "br1 = np.arange(len(MR))\n",
        "br2 = [x + barWidth for x in br1]\n",
        "\n",
        "plt.bar(br1, MR, color ='b', width = barWidth,\n",
        "\t\tedgecolor ='grey', label ='mapreduce')\n",
        "plt.bar(br2, spark, color ='g', width = barWidth,\n",
        "\t\tedgecolor ='grey', label ='spark')\n",
        "\n",
        "# Adding Xticks\n",
        "plt.title('Performance of C4.5 on MapReduce and Spark', fontweight ='bold', fontsize = 16)\n",
        "plt.xlabel('Data_size', fontweight ='bold', fontsize = 14)\n",
        "plt.ylabel('Time(s)', fontweight ='bold', fontsize = 14)\n",
        "plt.xticks([r + barWidth/2 for r in range(len(MR))],\n",
        "\t\t['148', '1000', '5000', '10000', '25000', '50000', '100000', '500000'])\n",
        "\n",
        "plt.legend()\n",
        "plt.show()"
      ],
      "metadata": {
        "id": "GtDgdsYP0id7"
      },
      "execution_count": null,
      "outputs": []
    },
    {
      "cell_type": "code",
      "source": [
        "ratio = [MR[i]/spark[i] for i in range(8)]\n",
        "plt.plot(nrows, ratio)\n",
        "plt.show()"
      ],
      "metadata": {
        "colab": {
          "base_uri": "https://localhost:8080/",
          "height": 265
        },
        "id": "oX4MyOevByap",
        "outputId": "7bad4582-0dba-4675-ba7c-0d43c7390ee9"
      },
      "execution_count": null,
      "outputs": [
        {
          "output_type": "display_data",
          "data": {
            "text/plain": [
              "<Figure size 432x288 with 1 Axes>"
            ],
            "image/png": "[encoded data removed]"
          },
          "metadata": {
            "needs_background": "light"
          }
        }
      ]
    },
    {
      "cell_type": "code",
      "source": [],
      "metadata": {
        "id": "g_QJTiW3hweH"
      },
      "execution_count": null,
      "outputs": []
    }
  ],
  "metadata": {
    "colab": {
      "provenance": []
    },
    "kernelspec": {
      "display_name": "Python 3",
      "language": "python",
      "name": "python3"
    },
    "language_info": {
      "codemirror_mode": {
        "name": "ipython",
        "version": 3
      },
      "file_extension": ".py",
      "mimetype": "text/x-python",
      "name": "python",
      "nbconvert_exporter": "python",
      "pygments_lexer": "ipython3",
      "version": "3.10.8"
    },
    "vscode": {
      "interpreter": {
        "hash": "dd3443abd388962b9364966be6f2006c33110f8883e28a48b8a15f07387372d6"
      }
    }
  },
  "nbformat": 4,
  "nbformat_minor": 0
}