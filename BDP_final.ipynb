{
  "cells": [
    {
      "cell_type": "markdown",
      "metadata": {
        "id": "JnIuLLVugQdt"
      },
      "source": [
        "# Big Data Final Code"
      ]
    },
    {
      "cell_type": "markdown",
      "metadata": {
        "id": "ENTX2ZoNgQdw"
      },
      "source": [
        "### Library Imports"
      ]
    },
    {
      "cell_type": "code",
      "execution_count": 1,
      "metadata": {
        "colab": {
          "base_uri": "https://localhost:8080/"
        },
        "id": "qjVrxkGd1VL2",
        "outputId": "25e1693e-ae6d-495f-e007-7c11513ed9a7"
      },
      "outputs": [
        {
          "output_type": "stream",
          "name": "stdout",
          "text": [
            "\u001b[?25l\r\u001b[K     |▊                               | 10 kB 18.1 MB/s eta 0:00:01\r\u001b[K     |█▌                              | 20 kB 22.9 MB/s eta 0:00:01\r\u001b[K     |██▎                             | 30 kB 29.2 MB/s eta 0:00:01\r\u001b[K     |███                             | 40 kB 31.7 MB/s eta 0:00:01\r\u001b[K     |███▊                            | 51 kB 33.6 MB/s eta 0:00:01\r\u001b[K     |████▌                           | 61 kB 35.6 MB/s eta 0:00:01\r\u001b[K     |█████▏                          | 71 kB 36.2 MB/s eta 0:00:01\r\u001b[K     |██████                          | 81 kB 35.8 MB/s eta 0:00:01\r\u001b[K     |██████▊                         | 92 kB 37.0 MB/s eta 0:00:01\r\u001b[K     |███████▌                        | 102 kB 32.3 MB/s eta 0:00:01\r\u001b[K     |████████▏                       | 112 kB 32.3 MB/s eta 0:00:01\r\u001b[K     |█████████                       | 122 kB 32.3 MB/s eta 0:00:01\r\u001b[K     |█████████▊                      | 133 kB 32.3 MB/s eta 0:00:01\r\u001b[K     |██████████▍                     | 143 kB 32.3 MB/s eta 0:00:01\r\u001b[K     |███████████▏                    | 153 kB 32.3 MB/s eta 0:00:01\r\u001b[K     |████████████                    | 163 kB 32.3 MB/s eta 0:00:01\r\u001b[K     |████████████▊                   | 174 kB 32.3 MB/s eta 0:00:01\r\u001b[K     |█████████████▍                  | 184 kB 32.3 MB/s eta 0:00:01\r\u001b[K     |██████████████▏                 | 194 kB 32.3 MB/s eta 0:00:01\r\u001b[K     |███████████████                 | 204 kB 32.3 MB/s eta 0:00:01\r\u001b[K     |███████████████▋                | 215 kB 32.3 MB/s eta 0:00:01\r\u001b[K     |████████████████▍               | 225 kB 32.3 MB/s eta 0:00:01\r\u001b[K     |█████████████████▏              | 235 kB 32.3 MB/s eta 0:00:01\r\u001b[K     |██████████████████              | 245 kB 32.3 MB/s eta 0:00:01\r\u001b[K     |██████████████████▋             | 256 kB 32.3 MB/s eta 0:00:01\r\u001b[K     |███████████████████▍            | 266 kB 32.3 MB/s eta 0:00:01\r\u001b[K     |████████████████████▏           | 276 kB 32.3 MB/s eta 0:00:01\r\u001b[K     |████████████████████▉           | 286 kB 32.3 MB/s eta 0:00:01\r\u001b[K     |█████████████████████▋          | 296 kB 32.3 MB/s eta 0:00:01\r\u001b[K     |██████████████████████▍         | 307 kB 32.3 MB/s eta 0:00:01\r\u001b[K     |███████████████████████         | 317 kB 32.3 MB/s eta 0:00:01\r\u001b[K     |███████████████████████▉        | 327 kB 32.3 MB/s eta 0:00:01\r\u001b[K     |████████████████████████▋       | 337 kB 32.3 MB/s eta 0:00:01\r\u001b[K     |█████████████████████████▍      | 348 kB 32.3 MB/s eta 0:00:01\r\u001b[K     |██████████████████████████      | 358 kB 32.3 MB/s eta 0:00:01\r\u001b[K     |██████████████████████████▉     | 368 kB 32.3 MB/s eta 0:00:01\r\u001b[K     |███████████████████████████▋    | 378 kB 32.3 MB/s eta 0:00:01\r\u001b[K     |████████████████████████████▎   | 389 kB 32.3 MB/s eta 0:00:01\r\u001b[K     |█████████████████████████████   | 399 kB 32.3 MB/s eta 0:00:01\r\u001b[K     |█████████████████████████████▉  | 409 kB 32.3 MB/s eta 0:00:01\r\u001b[K     |██████████████████████████████▋ | 419 kB 32.3 MB/s eta 0:00:01\r\u001b[K     |███████████████████████████████▎| 430 kB 32.3 MB/s eta 0:00:01\r\u001b[K     |████████████████████████████████| 439 kB 32.3 MB/s \n",
            "\u001b[?25h  Building wheel for treelib (setup.py) ... \u001b[?25l\u001b[?25hdone\n"
          ]
        }
      ],
      "source": [
        "!pip install --quiet mrjob==0.7.4\n",
        "!pip install --quiet treelib"
      ]
    },
    {
      "cell_type": "code",
      "execution_count": 16,
      "metadata": {
        "id": "pN1LM0mwHn7c"
      },
      "outputs": [],
      "source": [
        "import numpy as np\n",
        "import pandas as pd\n",
        "from treelib import Tree\n",
        "import subprocess\n",
        "import os\n",
        "import time\n",
        "import matplotlib.pyplot as plt"
      ]
    },
    {
      "cell_type": "markdown",
      "metadata": {
        "id": "t8t9a7zzg4Oc"
      },
      "source": [
        "### Connecting Drive for larger datasets"
      ]
    },
    {
      "cell_type": "code",
      "execution_count": 3,
      "metadata": {
        "colab": {
          "base_uri": "https://localhost:8080/"
        },
        "id": "dGJvpDRlg38E",
        "outputId": "66f7a567-0c06-4f6d-bec4-4583348088ee"
      },
      "outputs": [
        {
          "output_type": "stream",
          "name": "stdout",
          "text": [
            "Mounted at /content/gdrive\n"
          ]
        }
      ],
      "source": [
        "from google.colab import drive\n",
        "drive.mount(\"/content/gdrive\")"
      ]
    },
    {
      "cell_type": "code",
      "source": [
        "data = pd.read_csv(\"/content/lymph148.csv\")\n",
        "print(data.shape)\n",
        "data.head()"
      ],
      "metadata": {
        "colab": {
          "base_uri": "https://localhost:8080/",
          "height": 287
        },
        "id": "l5nl5-Rqop_7",
        "outputId": "b356e3c6-20e5-49d1-e8b8-41602e821b3f"
      },
      "execution_count": 4,
      "outputs": [
        {
          "output_type": "stream",
          "name": "stdout",
          "text": [
            "(148, 19)\n"
          ]
        },
        {
          "output_type": "execute_result",
          "data": {
            "text/plain": [
              "  lymphatics block_of_affere bl_of_lymph_c bl_of_lymph_s by_pass extravasates  \\\n",
              "0     arched             yes            no            no      no           no   \n",
              "1  displaced             yes            no            no     yes          yes   \n",
              "2   deformed              no            no            no     yes          yes   \n",
              "3     arched              no            no            no      no          yes   \n",
              "4     arched              no            no            no      no           no   \n",
              "\n",
              "  regeneration_of early_uptake_in  lym_nodes_dimin  lym_nodes_enlar  \\\n",
              "0              no             yes                1                4   \n",
              "1              no             yes                1                3   \n",
              "2             yes              no                3                1   \n",
              "3              no             yes                1                2   \n",
              "4              no              no                1                2   \n",
              "\n",
              "  changes_in_lym defect_in_node changes_in_node changes_in_stru special_forms  \\\n",
              "0          round    lac_central         lacunar        stripped      vesicles   \n",
              "1          round    lac_central         lacunar         diluted      vesicles   \n",
              "2           bean        lacunar              no         diluted      vesicles   \n",
              "3           oval     lac_margin      lac_margin       drop_like      vesicles   \n",
              "4          round     lac_margin      lac_margin           faint      vesicles   \n",
              "\n",
              "  dislocation_of exclusion_of_no  no_of_nodes_in         class  \n",
              "0            yes             yes               5  malign_lymph  \n",
              "1            yes             yes               3  malign_lymph  \n",
              "2             no              no               7      fibrosis  \n",
              "3             no             yes               1  malign_lymph  \n",
              "4             no              no               1    metastases  "
            ],
            "text/html": [
              "\n",
              "  <div id=\"df-6c95b0b5-7989-4629-9d89-4aed055bd60c\">\n",
              "    <div class=\"colab-df-container\">\n",
              "      <div>\n",
              "<style scoped>\n",
              "    .dataframe tbody tr th:only-of-type {\n",
              "        vertical-align: middle;\n",
              "    }\n",
              "\n",
              "    .dataframe tbody tr th {\n",
              "        vertical-align: top;\n",
              "    }\n",
              "\n",
              "    .dataframe thead th {\n",
              "        text-align: right;\n",
              "    }\n",
              "</style>\n",
              "<table border=\"1\" class=\"dataframe\">\n",
              "  <thead>\n",
              "    <tr style=\"text-align: right;\">\n",
              "      <th></th>\n",
              "      <th>lymphatics</th>\n",
              "      <th>block_of_affere</th>\n",
              "      <th>bl_of_lymph_c</th>\n",
              "      <th>bl_of_lymph_s</th>\n",
              "      <th>by_pass</th>\n",
              "      <th>extravasates</th>\n",
              "      <th>regeneration_of</th>\n",
              "      <th>early_uptake_in</th>\n",
              "      <th>lym_nodes_dimin</th>\n",
              "      <th>lym_nodes_enlar</th>\n",
              "      <th>changes_in_lym</th>\n",
              "      <th>defect_in_node</th>\n",
              "      <th>changes_in_node</th>\n",
              "      <th>changes_in_stru</th>\n",
              "      <th>special_forms</th>\n",
              "      <th>dislocation_of</th>\n",
              "      <th>exclusion_of_no</th>\n",
              "      <th>no_of_nodes_in</th>\n",
              "      <th>class</th>\n",
              "    </tr>\n",
              "  </thead>\n",
              "  <tbody>\n",
              "    <tr>\n",
              "      <th>0</th>\n",
              "      <td>arched</td>\n",
              "      <td>yes</td>\n",
              "      <td>no</td>\n",
              "      <td>no</td>\n",
              "      <td>no</td>\n",
              "      <td>no</td>\n",
              "      <td>no</td>\n",
              "      <td>yes</td>\n",
              "      <td>1</td>\n",
              "      <td>4</td>\n",
              "      <td>round</td>\n",
              "      <td>lac_central</td>\n",
              "      <td>lacunar</td>\n",
              "      <td>stripped</td>\n",
              "      <td>vesicles</td>\n",
              "      <td>yes</td>\n",
              "      <td>yes</td>\n",
              "      <td>5</td>\n",
              "      <td>malign_lymph</td>\n",
              "    </tr>\n",
              "    <tr>\n",
              "      <th>1</th>\n",
              "      <td>displaced</td>\n",
              "      <td>yes</td>\n",
              "      <td>no</td>\n",
              "      <td>no</td>\n",
              "      <td>yes</td>\n",
              "      <td>yes</td>\n",
              "      <td>no</td>\n",
              "      <td>yes</td>\n",
              "      <td>1</td>\n",
              "      <td>3</td>\n",
              "      <td>round</td>\n",
              "      <td>lac_central</td>\n",
              "      <td>lacunar</td>\n",
              "      <td>diluted</td>\n",
              "      <td>vesicles</td>\n",
              "      <td>yes</td>\n",
              "      <td>yes</td>\n",
              "      <td>3</td>\n",
              "      <td>malign_lymph</td>\n",
              "    </tr>\n",
              "    <tr>\n",
              "      <th>2</th>\n",
              "      <td>deformed</td>\n",
              "      <td>no</td>\n",
              "      <td>no</td>\n",
              "      <td>no</td>\n",
              "      <td>yes</td>\n",
              "      <td>yes</td>\n",
              "      <td>yes</td>\n",
              "      <td>no</td>\n",
              "      <td>3</td>\n",
              "      <td>1</td>\n",
              "      <td>bean</td>\n",
              "      <td>lacunar</td>\n",
              "      <td>no</td>\n",
              "      <td>diluted</td>\n",
              "      <td>vesicles</td>\n",
              "      <td>no</td>\n",
              "      <td>no</td>\n",
              "      <td>7</td>\n",
              "      <td>fibrosis</td>\n",
              "    </tr>\n",
              "    <tr>\n",
              "      <th>3</th>\n",
              "      <td>arched</td>\n",
              "      <td>no</td>\n",
              "      <td>no</td>\n",
              "      <td>no</td>\n",
              "      <td>no</td>\n",
              "      <td>yes</td>\n",
              "      <td>no</td>\n",
              "      <td>yes</td>\n",
              "      <td>1</td>\n",
              "      <td>2</td>\n",
              "      <td>oval</td>\n",
              "      <td>lac_margin</td>\n",
              "      <td>lac_margin</td>\n",
              "      <td>drop_like</td>\n",
              "      <td>vesicles</td>\n",
              "      <td>no</td>\n",
              "      <td>yes</td>\n",
              "      <td>1</td>\n",
              "      <td>malign_lymph</td>\n",
              "    </tr>\n",
              "    <tr>\n",
              "      <th>4</th>\n",
              "      <td>arched</td>\n",
              "      <td>no</td>\n",
              "      <td>no</td>\n",
              "      <td>no</td>\n",
              "      <td>no</td>\n",
              "      <td>no</td>\n",
              "      <td>no</td>\n",
              "      <td>no</td>\n",
              "      <td>1</td>\n",
              "      <td>2</td>\n",
              "      <td>round</td>\n",
              "      <td>lac_margin</td>\n",
              "      <td>lac_margin</td>\n",
              "      <td>faint</td>\n",
              "      <td>vesicles</td>\n",
              "      <td>no</td>\n",
              "      <td>no</td>\n",
              "      <td>1</td>\n",
              "      <td>metastases</td>\n",
              "    </tr>\n",
              "  </tbody>\n",
              "</table>\n",
              "</div>\n",
              "      <button class=\"colab-df-convert\" onclick=\"convertToInteractive('df-6c95b0b5-7989-4629-9d89-4aed055bd60c')\"\n",
              "              title=\"Convert this dataframe to an interactive table.\"\n",
              "              style=\"display:none;\">\n",
              "        \n",
              "  <svg xmlns=\"http://www.w3.org/2000/svg\" height=\"24px\"viewBox=\"0 0 24 24\"\n",
              "       width=\"24px\">\n",
              "    <path d=\"M0 0h24v24H0V0z\" fill=\"none\"/>\n",
              "    <path d=\"M18.56 5.44l.94 2.06.94-2.06 2.06-.94-2.06-.94-.94-2.06-.94 2.06-2.06.94zm-11 1L8.5 8.5l.94-2.06 2.06-.94-2.06-.94L8.5 2.5l-.94 2.06-2.06.94zm10 10l.94 2.06.94-2.06 2.06-.94-2.06-.94-.94-2.06-.94 2.06-2.06.94z\"/><path d=\"M17.41 7.96l-1.37-1.37c-.4-.4-.92-.59-1.43-.59-.52 0-1.04.2-1.43.59L10.3 9.45l-7.72 7.72c-.78.78-.78 2.05 0 2.83L4 21.41c.39.39.9.59 1.41.59.51 0 1.02-.2 1.41-.59l7.78-7.78 2.81-2.81c.8-.78.8-2.07 0-2.86zM5.41 20L4 18.59l7.72-7.72 1.47 1.35L5.41 20z\"/>\n",
              "  </svg>\n",
              "      </button>\n",
              "      \n",
              "  <style>\n",
              "    .colab-df-container {\n",
              "      display:flex;\n",
              "      flex-wrap:wrap;\n",
              "      gap: 12px;\n",
              "    }\n",
              "\n",
              "    .colab-df-convert {\n",
              "      background-color: #E8F0FE;\n",
              "      border: none;\n",
              "      border-radius: 50%;\n",
              "      cursor: pointer;\n",
              "      display: none;\n",
              "      fill: #1967D2;\n",
              "      height: 32px;\n",
              "      padding: 0 0 0 0;\n",
              "      width: 32px;\n",
              "    }\n",
              "\n",
              "    .colab-df-convert:hover {\n",
              "      background-color: #E2EBFA;\n",
              "      box-shadow: 0px 1px 2px rgba(60, 64, 67, 0.3), 0px 1px 3px 1px rgba(60, 64, 67, 0.15);\n",
              "      fill: #174EA6;\n",
              "    }\n",
              "\n",
              "    [theme=dark] .colab-df-convert {\n",
              "      background-color: #3B4455;\n",
              "      fill: #D2E3FC;\n",
              "    }\n",
              "\n",
              "    [theme=dark] .colab-df-convert:hover {\n",
              "      background-color: #434B5C;\n",
              "      box-shadow: 0px 1px 3px 1px rgba(0, 0, 0, 0.15);\n",
              "      filter: drop-shadow(0px 1px 2px rgba(0, 0, 0, 0.3));\n",
              "      fill: #FFFFFF;\n",
              "    }\n",
              "  </style>\n",
              "\n",
              "      <script>\n",
              "        const buttonEl =\n",
              "          document.querySelector('#df-6c95b0b5-7989-4629-9d89-4aed055bd60c button.colab-df-convert');\n",
              "        buttonEl.style.display =\n",
              "          google.colab.kernel.accessAllowed ? 'block' : 'none';\n",
              "\n",
              "        async function convertToInteractive(key) {\n",
              "          const element = document.querySelector('#df-6c95b0b5-7989-4629-9d89-4aed055bd60c');\n",
              "          const dataTable =\n",
              "            await google.colab.kernel.invokeFunction('convertToInteractive',\n",
              "                                                     [key], {});\n",
              "          if (!dataTable) return;\n",
              "\n",
              "          const docLinkHtml = 'Like what you see? Visit the ' +\n",
              "            '<a target=\"_blank\" href=https://colab.research.google.com/notebooks/data_table.ipynb>data table notebook</a>'\n",
              "            + ' to learn more about interactive tables.';\n",
              "          element.innerHTML = '';\n",
              "          dataTable['output_type'] = 'display_data';\n",
              "          await google.colab.output.renderOutput(dataTable, element);\n",
              "          const docLink = document.createElement('div');\n",
              "          docLink.innerHTML = docLinkHtml;\n",
              "          element.appendChild(docLink);\n",
              "        }\n",
              "      </script>\n",
              "    </div>\n",
              "  </div>\n",
              "  "
            ]
          },
          "metadata": {},
          "execution_count": 4
        }
      ]
    },
    {
      "cell_type": "markdown",
      "metadata": {
        "id": "5DF4Elo1gQdy"
      },
      "source": [
        "### Creating an MRJob"
      ]
    },
    {
      "cell_type": "code",
      "execution_count": 5,
      "metadata": {
        "colab": {
          "base_uri": "https://localhost:8080/"
        },
        "id": "0c-bZ4YZ2wai",
        "outputId": "983aae4d-8150-4c7c-ebb7-a3007ca9231b"
      },
      "outputs": [
        {
          "output_type": "stream",
          "name": "stdout",
          "text": [
            "Writing q1.py\n"
          ]
        }
      ],
      "source": [
        "%%file q1.py\n",
        "import numpy as np\n",
        "from mrjob.job import MRJob\n",
        "from mrjob.step import MRStep\n",
        "\n",
        "att_names = ['lymphatics', 'block_of_affere', 'bl_of_lymph_c', 'bl_of_lymph_s', 'by_pass', 'extravasates', 'regeneration_of', 'early_uptake_in', 'lym_nodes_dimin', 'lym_nodes_enlar',\n",
        "             'changes_in_lym', 'defect_in_node', 'changes_in_node', 'changes_in_stru', 'special_forms', 'dislocation_of', 'exclusion_of_no', 'no_of_nodes_in', 'class']\n",
        "\n",
        "\n",
        "class GainRatio(MRJob):\n",
        "\n",
        "    def mapper_count(self, _, line):\n",
        "        records = line.split(',')\n",
        "        if(records[8].isdigit()):\n",
        "            for i in range(0,len(records)-1):\n",
        "                yield((att_names[i],records[i],records[-1]),1)\n",
        "\n",
        "    def reducer_count(self, key, val):\n",
        "        yield (key,sum(val))\n",
        "\n",
        "    def mapper_gain(self, key, val):\n",
        "        yield key[0], [key[1], key[2], val]\n",
        "    \n",
        "    def reducer_gain(self, key, val):\n",
        "        l = list(val)\n",
        "        total_entropy = 0\n",
        "        weighted_entropy = 0\n",
        "        split_info = 0\n",
        "        total = 0\n",
        "        target = {}\n",
        "        attribute = {}\n",
        "\n",
        "        for i in l:\n",
        "            if i[1] in target.keys():\n",
        "                target[i[1]] += i[-1]\n",
        "            else:\n",
        "                target[i[1]] = i[-1]\n",
        "\n",
        "            if i[0] in attribute.keys():\n",
        "                attribute[i[0]] += i[-1]\n",
        "            else:\n",
        "                attribute[i[0]] = i[-1]\n",
        "\n",
        "            total += i[-1]\n",
        "\n",
        "        for i in attribute.keys():\n",
        "            att_tar = {}\n",
        "            att_entropy = 0\n",
        "\n",
        "            for j in l:\n",
        "                if(j[0]==i):\n",
        "                    if j[1] in att_tar.keys():\n",
        "                        att_tar[j[1]] += j[-1]\n",
        "                    else:\n",
        "                        att_tar[j[1]] = j[-1]\n",
        "            \n",
        "            for k in att_tar.values():\n",
        "                att_entropy += (-k/attribute[i])*np.log2(k/attribute[i]) if (k/attribute[i])!=0 else 0\n",
        "            \n",
        "            weighted_entropy += (attribute[i]/total)*att_entropy\n",
        "            split_info += (-attribute[i]/total)*np.log2(attribute[i]/total) if (attribute[i]/total)!=0 else 0\n",
        "\n",
        "\n",
        "        for i in target.values():\n",
        "            total_entropy += (-i/total)*np.log2(i/total) if (i/total)!=0 else 0\n",
        "        \n",
        "        gain_ratio = (total_entropy - weighted_entropy)/split_info if split_info != 0 else 0\n",
        "\n",
        "        yield None, [key, gain_ratio]\n",
        "\n",
        "    def gain_max(self, _, val):\n",
        "        best_att = None\n",
        "        max_gain = 0\n",
        "\n",
        "        for i in val:\n",
        "            if(i[1] >= max_gain):\n",
        "                max_gain = i[1]\n",
        "                best_att = i[0]\n",
        "\n",
        "        yield best_att, max_gain\n",
        "\n",
        "    def steps(self):\n",
        "        return [\n",
        "            MRStep(mapper=self.mapper_count,reducer=self.reducer_count),\n",
        "            MRStep(mapper=self.mapper_gain, reducer=self.reducer_gain),\n",
        "            MRStep(reducer=self.gain_max)\n",
        "        ]\n",
        "\n",
        "if __name__ == '__main__':\n",
        "    GainRatio.run()"
      ]
    },
    {
      "cell_type": "markdown",
      "metadata": {
        "id": "Do3CsBeygQdz"
      },
      "source": [
        "#### Trial of the MR Job"
      ]
    },
    {
      "cell_type": "code",
      "execution_count": 6,
      "metadata": {
        "colab": {
          "base_uri": "https://localhost:8080/"
        },
        "id": "Vhzp2dyXIKhY",
        "outputId": "f803499a-a248-498b-ed75-fa0e8bfa0bf5"
      },
      "outputs": [
        {
          "output_type": "stream",
          "name": "stdout",
          "text": [
            "No configs found; falling back on auto-configuration\n",
            "No configs specified for inline runner\n",
            "Creating temp directory /tmp/q1.root.20221218.080812.063358\n",
            "Running step 1 of 3...\n",
            "Running step 2 of 3...\n",
            "Running step 3 of 3...\n",
            "job output is in /tmp/q1.root.20221218.080812.063358/output\n",
            "Streaming final output from /tmp/q1.root.20221218.080812.063358/output...\n",
            "\"lym_nodes_dimin\"\t0.5647091545931281\n",
            "Removing temp directory /tmp/q1.root.20221218.080812.063358...\n"
          ]
        }
      ],
      "source": [
        "!python q1.py \"lymph148.csv\""
      ]
    },
    {
      "cell_type": "code",
      "execution_count": 7,
      "metadata": {
        "colab": {
          "base_uri": "https://localhost:8080/"
        },
        "id": "3ah0KOndgQd0",
        "outputId": "31c15c4c-24e5-4ad4-858a-8bac6e063255"
      },
      "outputs": [
        {
          "output_type": "stream",
          "name": "stdout",
          "text": [
            "['lym_nodes_dimin', '0.5647091545931281']\n"
          ]
        }
      ],
      "source": [
        "cmd = subprocess.run([\"python\", \"q1.py\", \"lymph148.csv\"], capture_output=True)\n",
        "stdout = cmd.stdout.decode()\n",
        "print(stdout.strip().replace('\"','').split('\\t'))"
      ]
    },
    {
      "cell_type": "markdown",
      "metadata": {
        "id": "gu9udlKxgQd1"
      },
      "source": [
        "### Building a Decision Tree"
      ]
    },
    {
      "cell_type": "markdown",
      "metadata": {
        "id": "3GbLfozVgQd1"
      },
      "source": [
        "* logarithm to the base 2"
      ]
    },
    {
      "cell_type": "code",
      "execution_count": 8,
      "metadata": {
        "id": "JnN9zZCLUMor"
      },
      "outputs": [],
      "source": [
        "def log(val):\n",
        "    if val == 0:\n",
        "        return 0\n",
        "    else:\n",
        "        return np.log2(val)"
      ]
    },
    {
      "cell_type": "markdown",
      "metadata": {
        "id": "Wh8Ae0Z2gQd2"
      },
      "source": [
        "* Entropy Calculation"
      ]
    },
    {
      "cell_type": "code",
      "execution_count": 9,
      "metadata": {
        "id": "y5jGkSdfgQd2"
      },
      "outputs": [],
      "source": [
        "def entropy(target_col):  \n",
        "    \n",
        "    elements, counts = np.unique(target_col,return_counts = True)  \n",
        "    entropy = np.sum([(-counts[i]/np.sum(counts))*log(counts[i]/np.sum(counts)) for i in range(len(elements))])  \n",
        "    return entropy"
      ]
    },
    {
      "cell_type": "markdown",
      "metadata": {
        "id": "vcvTJvN-gQd2"
      },
      "source": [
        "* Gain Ratio Calculation"
      ]
    },
    {
      "cell_type": "code",
      "execution_count": 10,
      "metadata": {
        "id": "dxSp5HN-gQd2"
      },
      "outputs": [],
      "source": [
        "def GainRatio(data,split_attribute_name,target_attribute_name=\"class\"):  \n",
        "         \n",
        "    #Calculate the entropy of the total dataset  \n",
        "    total_entropy = entropy(data[target_attribute_name])  \n",
        "      \n",
        "    #Calculate the values and the corresponding counts for the split attribute   \n",
        "    vals, counts= np.unique(data[split_attribute_name],return_counts=True)  \n",
        "      \n",
        "    #Calculate the weighted entropy  \n",
        "    Weighted_Entropy = np.sum([(counts[i]/np.sum(counts))*entropy(data[data[split_attribute_name]==vals[i]][target_attribute_name]) for i in range(len(vals))])  \n",
        "\n",
        "    #Calculate split information gain\n",
        "    Split_Info = np.sum([(-counts[i]/np.sum(counts))*log(counts[i]/np.sum(counts)) for i in range(len(vals))])\n",
        "\n",
        "    #Calculate the information gain  \n",
        "    Information_Gain = total_entropy - Weighted_Entropy  \n",
        "\n",
        "    #Calculate the gain ratio\n",
        "    Gain_Ratio = Information_Gain/Split_Info if Split_Info != 0 else 0\n",
        "\n",
        "    return Gain_Ratio "
      ]
    },
    {
      "cell_type": "markdown",
      "metadata": {
        "id": "NtdZgpUegQd2"
      },
      "source": [
        "* Add node function to add a node to the tree"
      ]
    },
    {
      "cell_type": "code",
      "execution_count": 11,
      "metadata": {
        "id": "xkjiHAaXqaQj"
      },
      "outputs": [],
      "source": [
        "def add_node(tree, best_feature, pid, path):\n",
        "    if(pid == None):\n",
        "        tree.create_node(tag = best_feature, identifier = best_feature)\n",
        "        return best_feature\n",
        "    else:\n",
        "        tree.create_node(str(path) + \":\" + best_feature, pid + \"/\" + str(path) + \"/\" + best_feature, pid)\n",
        "        return pid + \"/\" + str(path) + \"/\" + best_feature"
      ]
    },
    {
      "cell_type": "markdown",
      "metadata": {
        "id": "ERV1vDTugQd3"
      },
      "source": [
        "### C45 Algo"
      ]
    },
    {
      "cell_type": "code",
      "execution_count": 12,
      "metadata": {
        "id": "zry-AvsWEpd7"
      },
      "outputs": [],
      "source": [
        "lvl_times = {}"
      ]
    },
    {
      "cell_type": "code",
      "execution_count": 13,
      "metadata": {
        "id": "9BgNjz_BgQd3"
      },
      "outputs": [],
      "source": [
        "def C45(tree, data, features, target_attribute_name=\"class\", parent_node_class = None, pid = None, path = None, lvl = 0):  \n",
        "  \n",
        "    global lvl_times\n",
        "    start = time.time()\n",
        "\n",
        "    #Define the stopping criteria --> If one of this is satisfied, we want to return a leaf node#  \n",
        "    #If all target_values have the same value, return this value  \n",
        "    if len(np.unique(data[target_attribute_name])) <= 1:\n",
        "        best_feature = np.unique(data[target_attribute_name])[0]  \n",
        "        pid = add_node(tree, best_feature, pid, path)\n",
        "        \n",
        "    #If the feature space is empty, return the mode target feature value of the direct parent node \n",
        "    elif len(features) ==0:\n",
        "        best_feature = parent_node_class \n",
        "        pid = add_node(tree, best_feature, pid, path) \n",
        "      \n",
        "    #If none of the above holds true, grow the tree!  \n",
        "    else:  \n",
        "        #Set the default value for this node --> The mode target feature value of the current node  \n",
        "        parent_node_class = np.unique(data[target_attribute_name])[np.argmax(np.unique(data[target_attribute_name],return_counts=True)[1])]  \n",
        "          \n",
        "        # #Select the feature which best splits the dataset  \n",
        "        # item_values = [GainRatio(data,feature,target_attribute_name) for feature in features] #Return the information gain values for the features in the dataset  \n",
        "        \n",
        "        # best_feature_index = np.argmax(item_values)  \n",
        "        # best_feature = features[best_feature_index]\n",
        "\n",
        "        fname = 'lymph_' + str(lvl) + '.csv'\n",
        "        data.to_csv(fname, index=False)\n",
        "\n",
        "        cmd = subprocess.run([\"python\", \"q1.py\", fname], capture_output=True)\n",
        "        stdout = cmd.stdout.decode()\n",
        "        best_feature, best_val = stdout.strip().replace('\"','').split('\\t')\n",
        "        # print(best_feature, best_val)\n",
        "          \n",
        "        #Create the tree structure. The root gets the name of the feature (best_feature) with the maximum information  \n",
        "        #gain in the first run  \n",
        "        pid = add_node(tree, best_feature, pid, path)\n",
        "          \n",
        "        #Remove the feature with the best inforamtion gain from the feature space  \n",
        "        features = [i for i in features if i != best_feature]  \n",
        "        lvl_times[str(lvl)] = lvl_times.get(str(lvl),0) + time.time() - start\n",
        "\n",
        "        #Grow a branch under the root node for each possible value of the root node feature\n",
        "        for val in np.unique(data[best_feature]): \n",
        "            #Split the dataset along the value of the feature with the largest information gain and therwith create sub_datasets  \n",
        "            sub_data = data[data[best_feature] == val]\n",
        "              \n",
        "            #Call the C45 algorithm for each of those sub_datasets with the new parameters --> Here the recursion comes in!\n",
        "            C45(tree, sub_data, features, target_attribute_name, parent_node_class, pid, val, lvl+1)\n",
        "            \n",
        "        os.remove(fname)\n",
        "        del data"
      ]
    },
    {
      "cell_type": "markdown",
      "metadata": {
        "id": "C3uibcumgQd3"
      },
      "source": [
        "## Generating Decision Tree"
      ]
    },
    {
      "cell_type": "code",
      "execution_count": 17,
      "metadata": {
        "colab": {
          "base_uri": "https://localhost:8080/"
        },
        "id": "jkv19fn0zBi6",
        "outputId": "2a14a8ce-ff22-4fbb-aade-bc5b6f7edcb4"
      },
      "outputs": [
        {
          "output_type": "stream",
          "name": "stdout",
          "text": [
            "lym_nodes_dimin\n",
            "├── 1:changes_in_node\n",
            "│   ├── lac_central:exclusion_of_no\n",
            "│   │   ├── no:changes_in_lym\n",
            "│   │   │   ├── oval:malign_lymph\n",
            "│   │   │   └── round:metastases\n",
            "│   │   └── yes:lym_nodes_enlar\n",
            "│   │       ├── 2:changes_in_stru\n",
            "│   │       │   ├── diluted:metastases\n",
            "│   │       │   └── faint:malign_lymph\n",
            "│   │       ├── 3:malign_lymph\n",
            "│   │       └── 4:malign_lymph\n",
            "│   ├── lac_margin:block_of_affere\n",
            "│   │   ├── no:extravasates\n",
            "│   │   │   ├── no:lymphatics\n",
            "│   │   │   │   ├── arched:early_uptake_in\n",
            "│   │   │   │   │   ├── no:changes_in_lym\n",
            "│   │   │   │   │   │   ├── oval:metastases\n",
            "│   │   │   │   │   │   └── round:special_forms\n",
            "│   │   │   │   │   │       ├── chalices:malign_lymph\n",
            "│   │   │   │   │   │       └── vesicles:metastases\n",
            "│   │   │   │   │   └── yes:no_of_nodes_in\n",
            "│   │   │   │   │       ├── 2:malign_lymph\n",
            "│   │   │   │   │       ├── 3:malign_lymph\n",
            "│   │   │   │   │       └── 4:metastases\n",
            "│   │   │   │   ├── deformed:metastases\n",
            "│   │   │   │   └── displaced:malign_lymph\n",
            "│   │   │   └── yes:malign_lymph\n",
            "│   │   └── yes:no_of_nodes_in\n",
            "│   │       ├── 1:metastases\n",
            "│   │       ├── 2:metastases\n",
            "│   │       ├── 3:by_pass\n",
            "│   │       │   ├── no:special_forms\n",
            "│   │       │   │   ├── chalices:metastases\n",
            "│   │       │   │   └── vesicles:malign_lymph\n",
            "│   │       │   └── yes:metastases\n",
            "│   │       ├── 4:lymphatics\n",
            "│   │       │   ├── arched:malign_lymph\n",
            "│   │       │   ├── deformed:malign_lymph\n",
            "│   │       │   └── displaced:metastases\n",
            "│   │       ├── 6:metastases\n",
            "│   │       └── 7:metastases\n",
            "│   ├── lacunar:exclusion_of_no\n",
            "│   │   ├── no:extravasates\n",
            "│   │   │   ├── no:metastases\n",
            "│   │   │   └── yes:block_of_affere\n",
            "│   │   │       ├── no:malign_lymph\n",
            "│   │   │       └── yes:metastases\n",
            "│   │   └── yes:special_forms\n",
            "│   │       ├── chalices:changes_in_lym\n",
            "│   │       │   ├── oval:malign_lymph\n",
            "│   │       │   └── round:metastases\n",
            "│   │       ├── no:no_of_nodes_in\n",
            "│   │       │   ├── 1:metastases\n",
            "│   │       │   └── 2:malign_lymph\n",
            "│   │       └── vesicles:early_uptake_in\n",
            "│   │           ├── no:metastases\n",
            "│   │           └── yes:malign_lymph\n",
            "│   └── no:exclusion_of_no\n",
            "│       ├── no:normal\n",
            "│       └── yes:changes_in_lym\n",
            "│           ├── bean:metastases\n",
            "│           └── oval:malign_lymph\n",
            "├── 2:no_of_nodes_in\n",
            "│   ├── 1:metastases\n",
            "│   ├── 7:fibrosis\n",
            "│   └── 8:malign_lymph\n",
            "└── 3:fibrosis\n",
            "\n"
          ]
        }
      ],
      "source": [
        "tree = Tree()\n",
        "C45(tree, data, data.columns[:-1], 'class')\n",
        "tree.show()"
      ]
    },
    {
      "cell_type": "code",
      "execution_count": 18,
      "metadata": {
        "colab": {
          "base_uri": "https://localhost:8080/"
        },
        "id": "VwRS7_b9G4TI",
        "outputId": "57d02a7c-0d9c-4237-dd0d-927aa3e30e63"
      },
      "outputs": [
        {
          "output_type": "stream",
          "name": "stdout",
          "text": [
            "{'0': 0.9542195796966553, '1': 1.5195159912109375, '2': 2.5530788898468018, '3': 4.719784498214722, '4': 5.898674726486206, '5': 1.6992206573486328, '6': 1.9633979797363281, '7': 0.8155913352966309}\n"
          ]
        }
      ],
      "source": [
        "print(lvl_times)"
      ]
    },
    {
      "cell_type": "markdown",
      "metadata": {
        "id": "_olD1iMkeP6G"
      },
      "source": [
        "### Visualisation"
      ]
    },
    {
      "cell_type": "code",
      "execution_count": 19,
      "metadata": {
        "colab": {
          "base_uri": "https://localhost:8080/"
        },
        "id": "42hO4lLEgQd4",
        "outputId": "75622f07-9cfd-4b38-d102-74c6dbeb84b5"
      },
      "outputs": [
        {
          "output_type": "stream",
          "name": "stdout",
          "text": [
            "Running data : 148\n",
            "Running data : 1000\n",
            "Running data : 5000\n",
            "Running data : 10000\n",
            "Running data : 25000\n",
            "Running data : 50000\n",
            "Running data : 100000\n",
            "Running data : 500000\n",
            "[11.512209177017212, 12.222819089889526, 17.036800861358643, 21.542968273162842, 37.80695700645447, 60.95537972450256, 121.6204743385315, 548.059769153595]\n",
            "[{'0': 1.3983244895935059, '1': 2.37593412399292, '2': 4.28776478767395, '3': 7.730972051620483, '4': 9.263673782348633, '5': 2.5208096504211426, '6': 2.781705856323242, '7': 1.2129592895507812}, {'0': 0.6297752857208252, '1': 1.0319147109985352, '2': 1.83915376663208, '3': 3.1698057651519775, '4': 3.365247964859009, '5': 0.8363845348358154, '6': 0.8406376838684082, '7': 0.44304537773132324}, {'0': 1.493882417678833, '1': 1.9087886810302734, '2': 2.764646291732788, '3': 4.02957010269165, '4': 4.031995058059692, '5': 1.177255630493164, '6': 0.9041850566864014, '7': 0.6459639072418213}, {'0': 2.5723955631256104, '1': 2.979045867919922, '2': 3.766968250274658, '3': 5.445265531539917, '4': 4.243987321853638, '5': 1.019575595855713, '6': 0.97849440574646, '7': 0.43724942207336426}, {'0': 5.871843338012695, '1': 6.948010444641113, '2': 7.059163570404053, '3': 8.686220645904541, '4': 5.7137627601623535, '5': 1.695605754852295, '6': 1.180631399154663, '7': 0.4799346923828125}, {'0': 12.393595218658447, '1': 11.49582552909851, '2': 12.029622793197632, '3': 13.053147315979004, '4': 7.958446741104126, '5': 1.6890323162078857, '6': 1.5109610557556152, '7': 0.5409717559814453}, {'0': 24.897460460662842, '1': 24.828413009643555, '2': 26.49542999267578, '3': 25.620135068893433, '4': 13.87836217880249, '5': 2.488441228866577, '6': 2.160799980163574, '7': 0.7119598388671875}, {'0': 122.4260926246643, '1': 117.23782801628113, '2': 112.48267912864685, '3': 118.76709246635437, '4': 55.37567114830017, '5': 9.827460050582886, '6': 7.347662448883057, '7': 1.845768928527832}]\n"
          ]
        }
      ],
      "source": [
        "nrows = [148, 1000, 5000, 10000, 25000, 50000, 100000, 500000]\n",
        "MR = []\n",
        "times_lvl = []\n",
        "\n",
        "for i in range(len(nrows)):\n",
        "    print(f\"Running data : {nrows[i]}\")\n",
        "    data = pd.read_csv(\"/content/gdrive/MyDrive/BDP_data/lymph\" + str(nrows[i])+ \".csv\")\n",
        "    tree = Tree()\n",
        "    start = time.time()\n",
        "    C45(tree, data, data.columns[:-1], 'class')\n",
        "    MR.append(time.time()-start)\n",
        "    times_lvl.append(lvl_times)\n",
        "    lvl_times = {}\n",
        "\n",
        "print(MR)\n",
        "print(times_lvl)"
      ]
    },
    {
      "cell_type": "code",
      "execution_count": 20,
      "metadata": {
        "colab": {
          "base_uri": "https://localhost:8080/",
          "height": 410
        },
        "id": "-ybeJ8YzJ-oQ",
        "outputId": "f6f03248-20e5-4656-96aa-deb23b3ce9df"
      },
      "outputs": [
        {
          "output_type": "display_data",
          "data": {
            "text/plain": [
              "<Figure size 576x432 with 1 Axes>"
            ],
            "image/png": "[encoded data removed]"
          },
          "metadata": {
            "needs_background": "light"
          }
        }
      ],
      "source": [
        "fig, ax = plt.subplots(figsize=(8,6))\n",
        "color_cycle = ['tab:blue', 'tab:orange', 'tab:green', 'tab:purple', 'tab:red', 'tab:olive', 'tab:pink', 'tab:brown', 'tab:gray']\n",
        "\n",
        "for i in range(len(nrows)):\n",
        "    ax.plot(list(times_lvl[i].keys())[:-1], list(times_lvl[i].values())[:-1], c=color_cycle[i%len(color_cycle)], ls='-', lw=2, label=f'{nrows[i]}')\n",
        "    ax.scatter(list(times_lvl[i].keys())[:-1], list(times_lvl[i].values())[:-1], c=color_cycle[i%len(color_cycle)])\n",
        "\n",
        "ax.axhline(0, color='dimgrey')\n",
        "ax.axvline(0, color='dimgrey')\n",
        "ax.patch.set_edgecolor('black')  \n",
        "ax.patch.set_linewidth('2')\n",
        "ax.set_title(f\"The time of each iteration on MapReduce\", fontsize = 16, fontweight='bold')\n",
        "ax.set_xlabel(\"Iteration\", fontsize = 14)\n",
        "ax.set_ylabel(\"Time in seconds\", fontsize = 14)\n",
        "ax.set_xticks(list(range(0,8,1)))\n",
        "# ax.set_yticks(range(0,35,5))\n",
        "ax.grid()\n",
        "\n",
        "plt.legend()\n",
        "plt.show(fig)"
      ]
    },
    {
      "cell_type": "markdown",
      "source": [
        "# Spark"
      ],
      "metadata": {
        "id": "WjNbNMhAhf7e"
      }
    },
    {
      "cell_type": "code",
      "source": [
        "!pip install --quiet pyspark"
      ],
      "metadata": {
        "id": "z104eSxV5-Pr"
      },
      "execution_count": 28,
      "outputs": []
    },
    {
      "cell_type": "code",
      "source": [
        "from pyspark.ml.feature import StringIndexer, OneHotEncoder, VectorAssembler\n",
        "from pyspark.ml import Pipeline\n",
        "from pyspark.ml.classification import DecisionTreeClassifier"
      ],
      "metadata": {
        "id": "Qqh7zuay7D13"
      },
      "execution_count": 29,
      "outputs": []
    },
    {
      "cell_type": "code",
      "execution_count": 35,
      "metadata": {
        "id": "8pEdZoIB55Dr"
      },
      "outputs": [],
      "source": [
        "from pyspark import SparkContext\n",
        "# sc.stop()\n",
        "sc = SparkContext(master = 'local')\n",
        "\n",
        "from pyspark.sql import SparkSession\n",
        "spark = SparkSession.builder.appName(\"Python Spark SQL basic example\").config(\"spark.some.config.option\", \"some-value\").getOrCreate()"
      ]
    },
    {
      "cell_type": "code",
      "source": [
        "Spark = []\n",
        "\n",
        "for i in nrows:\n",
        "    data = spark.read.csv(\"/content/gdrive/MyDrive/BDP_data/lymph\" + str(i)+ \".csv\", header=True, inferSchema=True)\n",
        "\n",
        "    index = [0, 1, 2, 3, 4, 5, 6, 7, 10, 11, 12, 13, 14, 15, 16]\n",
        "    categorical_columns = [data.columns[i] for i in index]\n",
        "\n",
        "    stringindexer_stages = [StringIndexer(inputCol=c, outputCol='strindexed_' + c) for c in categorical_columns]\n",
        "    # encode label column and add it to stringindexer_stages\n",
        "    stringindexer_stages += [StringIndexer(inputCol='class', outputCol='label')]\n",
        "\n",
        "    onehotencoder_stages = [OneHotEncoder(inputCol='strindexed_' + c, outputCol='onehot_' + c) for c in categorical_columns]\n",
        "\n",
        "    feature_columns = ['onehot_' + c for c in categorical_columns]\n",
        "    vectorassembler_stage = VectorAssembler(inputCols=feature_columns, outputCol='features')\n",
        "\n",
        "    all_stages = stringindexer_stages + onehotencoder_stages + [vectorassembler_stage]\n",
        "    pipeline = Pipeline(stages=all_stages)\n",
        "\n",
        "    pipeline_model = pipeline.fit(data)\n",
        "\n",
        "    final_columns = feature_columns + ['features', 'label']\n",
        "    data_df = pipeline_model.transform(data).select(final_columns)\n",
        "\n",
        "    dt = DecisionTreeClassifier(featuresCol='features', labelCol='label')\n",
        "\n",
        "    start  = time.time()\n",
        "    dtc = dt.fit(data_df)\n",
        "    end = time.time()\n",
        "    Spark.append(end-start)"
      ],
      "metadata": {
        "id": "_dU3APwP59Yv"
      },
      "execution_count": 45,
      "outputs": []
    },
    {
      "cell_type": "code",
      "source": [
        "print(Spark)"
      ],
      "metadata": {
        "colab": {
          "base_uri": "https://localhost:8080/"
        },
        "id": "Ad0O0wqLX1-z",
        "outputId": "8df1d338-d494-405b-fe4e-5bf9fee5517d"
      },
      "execution_count": 46,
      "outputs": [
        {
          "output_type": "stream",
          "name": "stdout",
          "text": [
            "[1.1437757015228271, 1.099515438079834, 2.2797653675079346, 2.1041479110717773, 3.3937489986419678, 3.339796543121338, 5.535132646560669, 26.126930952072144]\n"
          ]
        }
      ]
    },
    {
      "cell_type": "code",
      "source": [
        "print(dtc.toDebugString)"
      ],
      "metadata": {
        "colab": {
          "base_uri": "https://localhost:8080/"
        },
        "id": "vvp583H2El03",
        "outputId": "c45727bf-0834-4fef-934b-43da5eb3f359"
      },
      "execution_count": 47,
      "outputs": [
        {
          "output_type": "stream",
          "name": "stdout",
          "text": [
            "DecisionTreeClassificationModel: uid=DecisionTreeClassifier_554c0d0f704a, depth=5, numNodes=37, numClasses=4, numFeatures=29\n",
            "  If (feature 15 in {0.0})\n",
            "   If (feature 28 in {0.0})\n",
            "    If (feature 16 in {0.0})\n",
            "     If (feature 17 in {0.0})\n",
            "      If (feature 1 in {0.0})\n",
            "       Predict: 3.0\n",
            "      Else (feature 1 not in {0.0})\n",
            "       Predict: 2.0\n",
            "     Else (feature 17 not in {0.0})\n",
            "      If (feature 3 in {0.0})\n",
            "       Predict: 1.0\n",
            "      Else (feature 3 not in {0.0})\n",
            "       Predict: 0.0\n",
            "    Else (feature 16 not in {0.0})\n",
            "     If (feature 21 in {0.0})\n",
            "      Predict: 0.0\n",
            "     Else (feature 21 not in {0.0})\n",
            "      If (feature 0 in {0.0})\n",
            "       Predict: 0.0\n",
            "      Else (feature 0 not in {0.0})\n",
            "       Predict: 1.0\n",
            "   Else (feature 28 not in {0.0})\n",
            "    If (feature 9 in {0.0})\n",
            "     If (feature 1 in {0.0})\n",
            "      Predict: 0.0\n",
            "     Else (feature 1 not in {0.0})\n",
            "      If (feature 6 in {0.0})\n",
            "       Predict: 2.0\n",
            "      Else (feature 6 not in {0.0})\n",
            "       Predict: 1.0\n",
            "    Else (feature 9 not in {0.0})\n",
            "     If (feature 25 in {0.0})\n",
            "      If (feature 10 in {0.0})\n",
            "       Predict: 0.0\n",
            "      Else (feature 10 not in {0.0})\n",
            "       Predict: 1.0\n",
            "     Else (feature 25 not in {0.0})\n",
            "      Predict: 1.0\n",
            "  Else (feature 15 not in {0.0})\n",
            "   If (feature 3 in {0.0})\n",
            "    If (feature 7 in {0.0})\n",
            "     If (feature 1 in {0.0})\n",
            "      If (feature 9 in {0.0})\n",
            "       Predict: 0.0\n",
            "      Else (feature 9 not in {0.0})\n",
            "       Predict: 1.0\n",
            "     Else (feature 1 not in {0.0})\n",
            "      Predict: 0.0\n",
            "    Else (feature 7 not in {0.0})\n",
            "     Predict: 1.0\n",
            "   Else (feature 3 not in {0.0})\n",
            "    If (feature 23 in {0.0})\n",
            "     Predict: 0.0\n",
            "    Else (feature 23 not in {0.0})\n",
            "     Predict: 1.0\n",
            "\n"
          ]
        }
      ]
    },
    {
      "cell_type": "code",
      "source": [
        "def parse_debug_string_lines(lines):\n",
        "    block = []\n",
        "\n",
        "    while lines:\n",
        "        if lines[0].startswith('If'):\n",
        "            bl = ' '.join(lines.pop(0).split()[1:]).replace('(', '').replace(')', '')\n",
        "            block.append({'name': bl, 'children': parse_debug_string_lines(lines)})\n",
        "\n",
        "            if lines[0].startswith('Else'):\n",
        "                be = ' '.join(lines.pop(0).split()[1:]).replace('(', '').replace(')', '')\n",
        "                block.append({'name': be, 'children': parse_debug_string_lines(lines)})\n",
        "\n",
        "        elif not lines[0].startswith(('If', 'Else')):\n",
        "            block2 = lines.pop(0)\n",
        "            block.append({'name': block2})\n",
        "\n",
        "        else:\n",
        "            break\n",
        "\n",
        "    return block\n",
        "\n",
        "def debug_str_to_json(debug_string):\n",
        "    data = []\n",
        "\n",
        "    for line in debug_string.splitlines():\n",
        "        if line.strip():\n",
        "            line = line.strip()\n",
        "            data.append(line)\n",
        "        else:\n",
        "            break\n",
        "        if not line: \n",
        "            break\n",
        "\n",
        "    json = {'name': 'Root', 'children': parse_debug_string_lines(data[1:])}\n",
        "    return json"
      ],
      "metadata": {
        "id": "gc8yP-O3Fqxn"
      },
      "execution_count": 48,
      "outputs": []
    },
    {
      "cell_type": "code",
      "source": [
        "import json\n",
        "\n",
        "dict_tree_json = debug_str_to_json(dtc.toDebugString)\n",
        "print(json.dumps(dict_tree_json, indent = 1 ))"
      ],
      "metadata": {
        "colab": {
          "base_uri": "https://localhost:8080/"
        },
        "id": "zfoFXzjyFr17",
        "outputId": "22286f89-94c9-47a3-c861-1328a1dabb98"
      },
      "execution_count": 49,
      "outputs": [
        {
          "output_type": "stream",
          "name": "stdout",
          "text": [
            "{\n",
            " \"name\": \"Root\",\n",
            " \"children\": [\n",
            "  {\n",
            "   \"name\": \"feature 15 in {0.0}\",\n",
            "   \"children\": [\n",
            "    {\n",
            "     \"name\": \"feature 28 in {0.0}\",\n",
            "     \"children\": [\n",
            "      {\n",
            "       \"name\": \"feature 16 in {0.0}\",\n",
            "       \"children\": [\n",
            "        {\n",
            "         \"name\": \"feature 17 in {0.0}\",\n",
            "         \"children\": [\n",
            "          {\n",
            "           \"name\": \"feature 1 in {0.0}\",\n",
            "           \"children\": [\n",
            "            {\n",
            "             \"name\": \"Predict: 3.0\"\n",
            "            }\n",
            "           ]\n",
            "          },\n",
            "          {\n",
            "           \"name\": \"feature 1 not in {0.0}\",\n",
            "           \"children\": [\n",
            "            {\n",
            "             \"name\": \"Predict: 2.0\"\n",
            "            }\n",
            "           ]\n",
            "          }\n",
            "         ]\n",
            "        },\n",
            "        {\n",
            "         \"name\": \"feature 17 not in {0.0}\",\n",
            "         \"children\": [\n",
            "          {\n",
            "           \"name\": \"feature 3 in {0.0}\",\n",
            "           \"children\": [\n",
            "            {\n",
            "             \"name\": \"Predict: 1.0\"\n",
            "            }\n",
            "           ]\n",
            "          },\n",
            "          {\n",
            "           \"name\": \"feature 3 not in {0.0}\",\n",
            "           \"children\": [\n",
            "            {\n",
            "             \"name\": \"Predict: 0.0\"\n",
            "            }\n",
            "           ]\n",
            "          }\n",
            "         ]\n",
            "        }\n",
            "       ]\n",
            "      },\n",
            "      {\n",
            "       \"name\": \"feature 16 not in {0.0}\",\n",
            "       \"children\": [\n",
            "        {\n",
            "         \"name\": \"feature 21 in {0.0}\",\n",
            "         \"children\": [\n",
            "          {\n",
            "           \"name\": \"Predict: 0.0\"\n",
            "          }\n",
            "         ]\n",
            "        },\n",
            "        {\n",
            "         \"name\": \"feature 21 not in {0.0}\",\n",
            "         \"children\": [\n",
            "          {\n",
            "           \"name\": \"feature 0 in {0.0}\",\n",
            "           \"children\": [\n",
            "            {\n",
            "             \"name\": \"Predict: 0.0\"\n",
            "            }\n",
            "           ]\n",
            "          },\n",
            "          {\n",
            "           \"name\": \"feature 0 not in {0.0}\",\n",
            "           \"children\": [\n",
            "            {\n",
            "             \"name\": \"Predict: 1.0\"\n",
            "            }\n",
            "           ]\n",
            "          }\n",
            "         ]\n",
            "        }\n",
            "       ]\n",
            "      }\n",
            "     ]\n",
            "    },\n",
            "    {\n",
            "     \"name\": \"feature 28 not in {0.0}\",\n",
            "     \"children\": [\n",
            "      {\n",
            "       \"name\": \"feature 9 in {0.0}\",\n",
            "       \"children\": [\n",
            "        {\n",
            "         \"name\": \"feature 1 in {0.0}\",\n",
            "         \"children\": [\n",
            "          {\n",
            "           \"name\": \"Predict: 0.0\"\n",
            "          }\n",
            "         ]\n",
            "        },\n",
            "        {\n",
            "         \"name\": \"feature 1 not in {0.0}\",\n",
            "         \"children\": [\n",
            "          {\n",
            "           \"name\": \"feature 6 in {0.0}\",\n",
            "           \"children\": [\n",
            "            {\n",
            "             \"name\": \"Predict: 2.0\"\n",
            "            }\n",
            "           ]\n",
            "          },\n",
            "          {\n",
            "           \"name\": \"feature 6 not in {0.0}\",\n",
            "           \"children\": [\n",
            "            {\n",
            "             \"name\": \"Predict: 1.0\"\n",
            "            }\n",
            "           ]\n",
            "          }\n",
            "         ]\n",
            "        }\n",
            "       ]\n",
            "      },\n",
            "      {\n",
            "       \"name\": \"feature 9 not in {0.0}\",\n",
            "       \"children\": [\n",
            "        {\n",
            "         \"name\": \"feature 25 in {0.0}\",\n",
            "         \"children\": [\n",
            "          {\n",
            "           \"name\": \"feature 10 in {0.0}\",\n",
            "           \"children\": [\n",
            "            {\n",
            "             \"name\": \"Predict: 0.0\"\n",
            "            }\n",
            "           ]\n",
            "          },\n",
            "          {\n",
            "           \"name\": \"feature 10 not in {0.0}\",\n",
            "           \"children\": [\n",
            "            {\n",
            "             \"name\": \"Predict: 1.0\"\n",
            "            }\n",
            "           ]\n",
            "          }\n",
            "         ]\n",
            "        },\n",
            "        {\n",
            "         \"name\": \"feature 25 not in {0.0}\",\n",
            "         \"children\": [\n",
            "          {\n",
            "           \"name\": \"Predict: 1.0\"\n",
            "          }\n",
            "         ]\n",
            "        }\n",
            "       ]\n",
            "      }\n",
            "     ]\n",
            "    }\n",
            "   ]\n",
            "  },\n",
            "  {\n",
            "   \"name\": \"feature 15 not in {0.0}\",\n",
            "   \"children\": [\n",
            "    {\n",
            "     \"name\": \"feature 3 in {0.0}\",\n",
            "     \"children\": [\n",
            "      {\n",
            "       \"name\": \"feature 7 in {0.0}\",\n",
            "       \"children\": [\n",
            "        {\n",
            "         \"name\": \"feature 1 in {0.0}\",\n",
            "         \"children\": [\n",
            "          {\n",
            "           \"name\": \"feature 9 in {0.0}\",\n",
            "           \"children\": [\n",
            "            {\n",
            "             \"name\": \"Predict: 0.0\"\n",
            "            }\n",
            "           ]\n",
            "          },\n",
            "          {\n",
            "           \"name\": \"feature 9 not in {0.0}\",\n",
            "           \"children\": [\n",
            "            {\n",
            "             \"name\": \"Predict: 1.0\"\n",
            "            }\n",
            "           ]\n",
            "          }\n",
            "         ]\n",
            "        },\n",
            "        {\n",
            "         \"name\": \"feature 1 not in {0.0}\",\n",
            "         \"children\": [\n",
            "          {\n",
            "           \"name\": \"Predict: 0.0\"\n",
            "          }\n",
            "         ]\n",
            "        }\n",
            "       ]\n",
            "      },\n",
            "      {\n",
            "       \"name\": \"feature 7 not in {0.0}\",\n",
            "       \"children\": [\n",
            "        {\n",
            "         \"name\": \"Predict: 1.0\"\n",
            "        }\n",
            "       ]\n",
            "      }\n",
            "     ]\n",
            "    },\n",
            "    {\n",
            "     \"name\": \"feature 3 not in {0.0}\",\n",
            "     \"children\": [\n",
            "      {\n",
            "       \"name\": \"feature 23 in {0.0}\",\n",
            "       \"children\": [\n",
            "        {\n",
            "         \"name\": \"Predict: 0.0\"\n",
            "        }\n",
            "       ]\n",
            "      },\n",
            "      {\n",
            "       \"name\": \"feature 23 not in {0.0}\",\n",
            "       \"children\": [\n",
            "        {\n",
            "         \"name\": \"Predict: 1.0\"\n",
            "        }\n",
            "       ]\n",
            "      }\n",
            "     ]\n",
            "    }\n",
            "   ]\n",
            "  }\n",
            " ]\n",
            "}\n"
          ]
        }
      ]
    },
    {
      "cell_type": "markdown",
      "source": [
        "# Comparison"
      ],
      "metadata": {
        "id": "ID85fQ_chuRO"
      }
    },
    {
      "cell_type": "code",
      "source": [
        "barWidth = 0.3\n",
        "fig = plt.subplots(figsize = (10, 6))\n",
        "\n",
        "br1 = np.arange(len(MR))\n",
        "br2 = [x + barWidth for x in br1]\n",
        "\n",
        "plt.bar(br1, MR, color ='b', width = barWidth,\n",
        "\t\tedgecolor ='grey', label ='mapreduce')\n",
        "plt.bar(br2, Spark, color ='g', width = barWidth,\n",
        "\t\tedgecolor ='grey', label ='spark')\n",
        "\n",
        "# Adding Xticks\n",
        "plt.title('Performance of C4.5 on MapReduce and Spark', fontweight ='bold', fontsize = 16)\n",
        "plt.xlabel('Data_size', fontweight ='bold', fontsize = 14)\n",
        "plt.ylabel('Time(s)', fontweight ='bold', fontsize = 14)\n",
        "plt.xticks([r + barWidth/2 for r in range(len(MR))],\n",
        "\t\t['148', '1000', '5000', '10000', '25000', '50000', '100000', '500000'])\n",
        "\n",
        "plt.legend()\n",
        "plt.show()"
      ],
      "metadata": {
        "colab": {
          "base_uri": "https://localhost:8080/",
          "height": 410
        },
        "id": "GtDgdsYP0id7",
        "outputId": "6cd33b7d-846f-44e6-e9d0-396684ca7982"
      },
      "execution_count": 50,
      "outputs": [
        {
          "output_type": "display_data",
          "data": {
            "text/plain": [
              "<Figure size 720x432 with 1 Axes>"
            ],
            "image/png": "[encoded data removed]"
          },
          "metadata": {
            "needs_background": "light"
          }
        }
      ]
    },
    {
      "cell_type": "code",
      "source": [
        "ratio = [MR[i]/Spark[i] for i in range(8)]\n",
        "plt.plot(nrows, ratio)\n",
        "plt.show()"
      ],
      "metadata": {
        "colab": {
          "base_uri": "https://localhost:8080/",
          "height": 265
        },
        "id": "oX4MyOevByap",
        "outputId": "5df20791-aefd-41c3-dde0-0869bcc6397a"
      },
      "execution_count": 51,
      "outputs": [
        {
          "output_type": "display_data",
          "data": {
            "text/plain": [
              "<Figure size 432x288 with 1 Axes>"
            ],
            "image/png": "[encoded data removed]"
          },
          "metadata": {
            "needs_background": "light"
          }
        }
      ]
    },
    {
      "cell_type": "code",
      "source": [],
      "metadata": {
        "id": "g_QJTiW3hweH"
      },
      "execution_count": null,
      "outputs": []
    }
  ],
  "metadata": {
    "colab": {
      "provenance": []
    },
    "kernelspec": {
      "display_name": "Python 3",
      "language": "python",
      "name": "python3"
    },
    "language_info": {
      "codemirror_mode": {
        "name": "ipython",
        "version": 3
      },
      "file_extension": ".py",
      "mimetype": "text/x-python",
      "name": "python",
      "nbconvert_exporter": "python",
      "pygments_lexer": "ipython3",
      "version": "3.10.8"
    },
    "vscode": {
      "interpreter": {
        "hash": "dd3443abd388962b9364966be6f2006c33110f8883e28a48b8a15f07387372d6"
      }
    }
  },
  "nbformat": 4,
  "nbformat_minor": 0
}